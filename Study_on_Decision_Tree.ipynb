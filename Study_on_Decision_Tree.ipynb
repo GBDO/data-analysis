{
  "nbformat": 4,
  "nbformat_minor": 0,
  "metadata": {
    "colab": {
      "name": "Study on Decision Tree.ipynb",
      "provenance": []
    },
    "kernelspec": {
      "name": "python3",
      "display_name": "Python 3"
    },
    "language_info": {
      "name": "python"
    }
  },
  "cells": [
    {
      "cell_type": "markdown",
      "source": [
        "출처 : https://www.kaggle.com/code/prashant111/decision-tree-classifier-tutorial\n",
        "\n",
        "### 의사결정나무 알고리즘\n",
        "\n",
        "의사결정나무 알고리즘은 가장 널리 사용되는 기계학습 알고리즘 중 하나입니다. 특정 문제를 해결하기 위해 트리와 같은 구조를 사용합니다. 분류 및 회귀 목적으로 사용할 수 있는 지도 학습 알고리즘 클래스에 속합니다.\n",
        " 의사결정나무 알고리즘은 루트 노드, 분기 및 리프 노드를 포함하는 구조입니다. 각 내부 노드는 특성에 대한 테스트를 나타내고, 가 분기는 테스트 결과를 나타내며, 각 리프 노드는 분류나 회귀 된 클래스 레이블을 포함합니다.  트리의 최상위 노드는 루트 노드이고 분류 또는 회귀를 바라는 데이터셋 전체를 포함합니다.\n",
        "\n",
        "/ 분류 및 회귀 트리(CART, Classification And Regression Tree)\n",
        "\n",
        "### 의사결정나무 알고리즘 용어\n",
        "루트 노드(root node) : 전체 모집단 또는 표본을 나타냄, 이것은 두 개 이상의 동종 세트로 더 나뉨\n",
        "\n",
        "Splitting : 노드를 두 개 이상의 하위 노드로 나누는 과정\n",
        "\n",
        "결정 노드(decision node) : 자식 노드가 추가 하위 노드로 분할되면 결정 노드라고 함\n",
        "\n",
        "리프/터미널 노드(leaf/ terminal node) : 분할되지 않는 노드를 리프 또는 터미널 노드라고 함\n",
        "\n",
        "가지치기(pruning) : 결정 노드의 자식 노드를 제거하는 것을 가지치기라고 함\n",
        "\n",
        "분기/서브트리(branch/sub-tree) : 전체 트리의 하위 섹션을 분기 또는 하위 트리라고 함\n",
        "\n",
        "부모 및 자식 노드(parent and child node) : 자식 노드로 분할된 노드를 자식 노드의 부모 노드라고 하고 자식 노드는 부모 노드의 자식입니다.\n",
        "\n",
        "### 의사결정 트리 용어 다이어그램\n"
      ],
      "metadata": {
        "id": "cJg-OniWGM1K"
      }
    }
  ]
}