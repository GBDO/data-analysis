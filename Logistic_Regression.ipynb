{
  "nbformat": 4,
  "nbformat_minor": 0,
  "metadata": {
    "colab": {
      "name": "Logistic Regression.ipynb",
      "provenance": []
    },
    "kernelspec": {
      "name": "python3",
      "display_name": "Python 3"
    },
    "language_info": {
      "name": "python"
    }
  },
  "cells": [
    {
      "cell_type": "markdown",
      "source": [
        "출처 : https://www.kaggle.com/code/prashant111/logistic-regression-classifier-tutorial\n",
        "\n",
        "## **1. 로지스틱 회귀분석(Logistic Regression | Logit Regression)**\n",
        "\n",
        "이산 클래스 집합에 대한 예측을 할 때 사용하는 지도 학습 분류 알고리즘이다. 결과도 이산 값으로 출력된다.\n",
        "\n",
        "## **2. 로지스틱 회귀분석 과정**\n",
        "\n",
        "\n",
        "### 2-1. 선형 방정식 구현\n",
        "\n",
        "\n",
        "### 2-2. 시그모이드 함수를 통해 확률 값으로 변환( 0~1 사이 범위 )\n",
        "\n",
        "\n",
        "### 2-3. 결정 경계( 임계 값 )를 설정하고 그것을 기준으로 시그모이드 함수로 변환된 값을 분류합니다. 보통 0과 1의 중간 값인 0.5가 결정 경계가 됩니다.\n"
      ],
      "metadata": {
        "id": "SnJbUuQ2UxTv"
      }
    }
  ]
}