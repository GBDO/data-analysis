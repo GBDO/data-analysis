{
  "nbformat": 4,
  "nbformat_minor": 0,
  "metadata": {
    "colab": {
      "name": "Study for SMOTE With Model Lightgbm.ipynb",
      "provenance": [],
      "collapsed_sections": []
    },
    "kernelspec": {
      "name": "python3",
      "display_name": "Python 3"
    },
    "language_info": {
      "name": "python"
    }
  },
  "cells": [
    {
      "cell_type": "markdown",
      "source": [
        "출처:https://www.kaggle.com/code/ashishpatel26/smote-with-model-lightgbm"
      ],
      "metadata": {
        "id": "NxvDimfhLuGJ"
      }
    },
    {
      "cell_type": "markdown",
      "source": [
        "### lightgbm(Light Gradient Boosting Machine):\n",
        " 기계 학습을위한 무료 오픈 소스 분산 경사하강법(Gradient Boostiong) 프레임 워크\n",
        "### tqdm\n",
        " 실행 시간이 긴 코드에 대한 진행상황을 확인 가능하도록 하는 라이브러리\n",
        "### dask\n",
        " 병렬컴퓨팅을 위한 라이브러리"
      ],
      "metadata": {
        "id": "uaC4TbT8Mkgy"
      }
    },
    {
      "cell_type": "markdown",
      "source": [
        "### dask.dataframe을 import 할 때 오류가 발생할 경우 아래 코드 실행\n",
        "```\n",
        "pip install dask[dataframe] --upgrade\n",
        "```"
      ],
      "metadata": {
        "id": "5V8nuE6rUHrS"
      }
    },
    {
      "cell_type": "code",
      "source": [
        "import warnings\n",
        "import itertools\n",
        "import numpy as np \n",
        "import pandas as pd\n",
        "import seaborn as sns\n",
        "import lightgbm as lgb\n",
        "import matplotlib.pyplot as plt\n",
        "from tqdm import tqdm_notebook as tqdm\n",
        "from sklearn.preprocessing import MinMaxScaler\n",
        "from sklearn.model_selection import train_test_split\n",
        "from sklearn.metrics import confusion_matrix, log_loss\n",
        "import dask\n",
        "import dask.dataframe as dd\n",
        "import gc\n",
        "\n",
        "from yellowbrick.text import TSNEVisualizer\n",
        "\n",
        "%matplotlib inline\n",
        "plt.style.use(\"fivethirtyeight\")\n",
        "\n",
        "import os\n",
        "print(os.listdir('/content/drive/MyDrive/Colab Notebooks/data_analysis/reducing-commercial-aviation-fatalities'))\n",
        "\n",
        "warnings.simplefilter(action='ignore')\n",
        "sns.set_style('whitegrid')"
      ],
      "metadata": {
        "colab": {
          "base_uri": "https://localhost:8080/"
        },
        "id": "LAqMPig_Ltqu",
        "outputId": "96e4af51-b0bb-43e5-a357-406d11eb9961"
      },
      "execution_count": 16,
      "outputs": [
        {
          "output_type": "stream",
          "name": "stdout",
          "text": [
            "['sample_submission.csv', 'test.csv', 'train.csv']\n"
          ]
        }
      ]
    },
    {
      "cell_type": "markdown",
      "source": [
        "데이터 불러오기"
      ],
      "metadata": {
        "id": "zmf7bMR3P2yV"
      }
    },
    {
      "cell_type": "code",
      "execution_count": 17,
      "metadata": {
        "id": "CSbdau3TLpSm"
      },
      "outputs": [],
      "source": [
        "def gc():\n",
        "    print(gc.collect())\n",
        "\n",
        "\n",
        "dtypes = {\"crew\": \"int8\",\n",
        "          \"experiment\": \"category\",\n",
        "          \"time\": \"float32\",\n",
        "          \"seat\": \"int8\",\n",
        "          \"eeg_fp1\": \"float32\",\n",
        "          \"eeg_f7\": \"float32\",\n",
        "          \"eeg_f8\": \"float32\",\n",
        "          \"eeg_t4\": \"float32\",\n",
        "          \"eeg_t6\": \"float32\",\n",
        "          \"eeg_t5\": \"float32\",\n",
        "          \"eeg_t3\": \"float32\",\n",
        "          \"eeg_fp2\": \"float32\",\n",
        "          \"eeg_o1\": \"float32\",\n",
        "          \"eeg_p3\": \"float32\",\n",
        "          \"eeg_pz\": \"float32\",\n",
        "          \"eeg_f3\": \"float32\",\n",
        "          \"eeg_fz\": \"float32\",\n",
        "          \"eeg_f4\": \"float32\",\n",
        "          \"eeg_c4\": \"float32\",\n",
        "          \"eeg_p4\": \"float32\",\n",
        "          \"eeg_poz\": \"float32\",\n",
        "          \"eeg_c3\": \"float32\",\n",
        "          \"eeg_cz\": \"float32\",\n",
        "          \"eeg_o2\": \"float32\",\n",
        "          \"ecg\": \"float32\",\n",
        "          \"r\": \"float32\",\n",
        "          \"gsr\": \"float32\",\n",
        "          \"event\": \"category\",\n",
        "         }\n",
        "\n",
        "def plot_confusion_matrix(cm, classes,\n",
        "                          normalize=True,\n",
        "                          title='Confusion matrix',\n",
        "                          cmap=plt.cm.Blues):\n",
        "    if normalize:\n",
        "        cm = cm.astype('float') / cm.sum(axis=1)[:, np.newaxis]\n",
        "        print(\"Normalized confusion matrix\")\n",
        "    else: \n",
        "        print('Confusion matrix, without normalization')\n",
        "    \n",
        "    print(cm)\n",
        "\n",
        "    plt.imshow(cm, interpolation='nearest', cmap=cmap)\n",
        "    plt.title(title)\n",
        "    plt.colorbar()\n",
        "    tick_marks = np.arange(len(classes))\n",
        "    plt.xticks(tick_marks, classes, rotation=45)\n",
        "    plt.yticks(tick_marks, classes)\n",
        "\n",
        "    fmt = '.2f' if normalize else 'd'\n",
        "    thresh = cm.max()/2\n",
        "    for i, j in itertools,product(range(cm.shape[0]), range(cm.shape[1])):\n",
        "        plt.text(j,i,format(cm[i,j],fmt),\n",
        "                 gorizontalalignment=\"center\",\n",
        "                 color='white' if cm[i, j] > thresh else \"black\")\n",
        "\n",
        "    plt.ylabel('True label')\n",
        "    plt.xlabel('Predicted label')\n",
        "    plt.tight_layout()"
      ]
    },
    {
      "cell_type": "code",
      "source": [
        "%%time\n",
        "train = dd.read_csv('/content/drive/MyDrive/Colab Notebooks/data_analysis/reducing-commercial-aviation-fatalities/train.csv',\n",
        "                    blocksize = 256e6, dtype=dtypes)"
      ],
      "metadata": {
        "colab": {
          "base_uri": "https://localhost:8080/"
        },
        "id": "Lpa754sxSIzH",
        "outputId": "989349b3-a990-41c3-fcdd-01d289c11587"
      },
      "execution_count": 19,
      "outputs": [
        {
          "output_type": "stream",
          "name": "stdout",
          "text": [
            "CPU times: user 40.4 ms, sys: 14.9 ms, total: 55.3 ms\n",
            "Wall time: 525 ms\n"
          ]
        }
      ]
    },
    {
      "cell_type": "code",
      "source": [
        "%%time\n",
        "test = dd.read_csv('/content/drive/MyDrive/Colab Notebooks/data_analysis/reducing-commercial-aviation-fatalities/test.csv',\n",
        "                    blocksize = 256e6, dtype=dtypes)\n",
        "# test_df = pd.read_csv('/content/drive/MyDrive/Colab Notebooks/data_analysis/reducing-commercial-aviation-fatalities/test.csv',dtype=dtypes)"
      ],
      "metadata": {
        "colab": {
          "base_uri": "https://localhost:8080/"
        },
        "id": "GVR7g6lcVDJ-",
        "outputId": "b2859929-a2e2-489a-d15f-f147a9b332c2"
      },
      "execution_count": 20,
      "outputs": [
        {
          "output_type": "stream",
          "name": "stdout",
          "text": [
            "CPU times: user 80 ms, sys: 1.91 ms, total: 81.9 ms\n",
            "Wall time: 548 ms\n"
          ]
        }
      ]
    }
  ]
}