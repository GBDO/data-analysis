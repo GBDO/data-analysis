{
  "nbformat": 4,
  "nbformat_minor": 0,
  "metadata": {
    "colab": {
      "name": "Study for SMOTE With Model Lightgbm.ipynb",
      "provenance": [],
      "collapsed_sections": []
    },
    "kernelspec": {
      "name": "python3",
      "display_name": "Python 3"
    },
    "language_info": {
      "name": "python"
    }
  },
  "cells": [
    {
      "cell_type": "markdown",
      "source": [
        "출처:https://www.kaggle.com/code/ashishpatel26/smote-with-model-lightgbm"
      ],
      "metadata": {
        "id": "NxvDimfhLuGJ"
      }
    },
    {
      "cell_type": "markdown",
      "source": [
        "### lightgbm(Light Gradient Boosting Machine):\n",
        " 기계 학습을위한 무료 오픈 소스 분산 경사하강법(Gradient Boostiong) 프레임 워크\n",
        "### tqdm\n",
        " 실행 시간이 긴 코드에 대한 진행상황을 확인 가능하도록 하는 라이브러리\n",
        "### dask\n",
        " 병렬컴퓨팅을 위한 라이브러리"
      ],
      "metadata": {
        "id": "uaC4TbT8Mkgy"
      }
    },
    {
      "cell_type": "markdown",
      "source": [
        "### dask.dataframe을 import 할 때 오류가 발생할 경우 아래 코드 실행\n",
        "```\n",
        "pip install dask[dataframe] --upgrade\n",
        "```"
      ],
      "metadata": {
        "id": "5V8nuE6rUHrS"
      }
    },
    {
      "cell_type": "code",
      "source": [
        "import warnings\n",
        "import itertools\n",
        "import numpy as np \n",
        "import pandas as pd\n",
        "import seaborn as sns\n",
        "import lightgbm as lgb\n",
        "import matplotlib.pyplot as plt\n",
        "from tqdm import tqdm_notebook as tqdm\n",
        "from sklearn.preprocessing import MinMaxScaler\n",
        "from sklearn.model_selection import train_test_split\n",
        "from sklearn.metrics import confusion_matrix, log_loss\n",
        "import dask\n",
        "import dask.dataframe as dd\n",
        "import gc\n",
        "\n",
        "from yellowbrick.text import TSNEVisualizer\n",
        "\n",
        "%matplotlib inline\n",
        "plt.style.use(\"fivethirtyeight\")\n",
        "\n",
        "import os\n",
        "print(os.listdir('/content/drive/MyDrive/Colab Notebooks/data_analysis/reducing-commercial-aviation-fatalities'))\n",
        "\n",
        "warnings.simplefilter(action='ignore')\n",
        "sns.set_style('whitegrid')"
      ],
      "metadata": {
        "colab": {
          "base_uri": "https://localhost:8080/"
        },
        "id": "LAqMPig_Ltqu",
        "outputId": "96e4af51-b0bb-43e5-a357-406d11eb9961"
      },
      "execution_count": 16,
      "outputs": [
        {
          "output_type": "stream",
          "name": "stdout",
          "text": [
            "['sample_submission.csv', 'test.csv', 'train.csv']\n"
          ]
        }
      ]
    },
    {
      "cell_type": "markdown",
      "source": [
        "데이터 불러오기"
      ],
      "metadata": {
        "id": "zmf7bMR3P2yV"
      }
    },
    {
      "cell_type": "code",
      "execution_count": 17,
      "metadata": {
        "id": "CSbdau3TLpSm"
      },
      "outputs": [],
      "source": [
        "def gc():\n",
        "    print(gc.collect())\n",
        "\n",
        "\n",
        "dtypes = {\"crew\": \"int8\",\n",
        "          \"experiment\": \"category\",\n",
        "          \"time\": \"float32\",\n",
        "          \"seat\": \"int8\",\n",
        "          \"eeg_fp1\": \"float32\",\n",
        "          \"eeg_f7\": \"float32\",\n",
        "          \"eeg_f8\": \"float32\",\n",
        "          \"eeg_t4\": \"float32\",\n",
        "          \"eeg_t6\": \"float32\",\n",
        "          \"eeg_t5\": \"float32\",\n",
        "          \"eeg_t3\": \"float32\",\n",
        "          \"eeg_fp2\": \"float32\",\n",
        "          \"eeg_o1\": \"float32\",\n",
        "          \"eeg_p3\": \"float32\",\n",
        "          \"eeg_pz\": \"float32\",\n",
        "          \"eeg_f3\": \"float32\",\n",
        "          \"eeg_fz\": \"float32\",\n",
        "          \"eeg_f4\": \"float32\",\n",
        "          \"eeg_c4\": \"float32\",\n",
        "          \"eeg_p4\": \"float32\",\n",
        "          \"eeg_poz\": \"float32\",\n",
        "          \"eeg_c3\": \"float32\",\n",
        "          \"eeg_cz\": \"float32\",\n",
        "          \"eeg_o2\": \"float32\",\n",
        "          \"ecg\": \"float32\",\n",
        "          \"r\": \"float32\",\n",
        "          \"gsr\": \"float32\",\n",
        "          \"event\": \"category\",\n",
        "         }\n",
        "\n",
        "def plot_confusion_matrix(cm, classes,\n",
        "                          normalize=True,\n",
        "                          title='Confusion matrix',\n",
        "                          cmap=plt.cm.Blues):\n",
        "    if normalize:\n",
        "        cm = cm.astype('float') / cm.sum(axis=1)[:, np.newaxis]\n",
        "        print(\"Normalized confusion matrix\")\n",
        "    else: \n",
        "        print('Confusion matrix, without normalization')\n",
        "    \n",
        "    print(cm)\n",
        "\n",
        "    plt.imshow(cm, interpolation='nearest', cmap=cmap)\n",
        "    plt.title(title)\n",
        "    plt.colorbar()\n",
        "    tick_marks = np.arange(len(classes))\n",
        "    plt.xticks(tick_marks, classes, rotation=45)\n",
        "    plt.yticks(tick_marks, classes)\n",
        "\n",
        "    fmt = '.2f' if normalize else 'd'\n",
        "    thresh = cm.max()/2\n",
        "    for i, j in itertools,product(range(cm.shape[0]), range(cm.shape[1])):\n",
        "        plt.text(j,i,format(cm[i,j],fmt),\n",
        "                 gorizontalalignment=\"center\",\n",
        "                 color='white' if cm[i, j] > thresh else \"black\")\n",
        "\n",
        "    plt.ylabel('True label')\n",
        "    plt.xlabel('Predicted label')\n",
        "    plt.tight_layout()"
      ]
    },
    {
      "cell_type": "code",
      "source": [
        "%%time\n",
        "train = dd.read_csv('/content/drive/MyDrive/Colab Notebooks/data_analysis/reducing-commercial-aviation-fatalities/train.csv',\n",
        "                    blocksize = 256e6, dtype=dtypes)"
      ],
      "metadata": {
        "colab": {
          "base_uri": "https://localhost:8080/"
        },
        "id": "Lpa754sxSIzH",
        "outputId": "58d64bff-ef08-42a4-f765-bb46e542b0a8"
      },
      "execution_count": 25,
      "outputs": [
        {
          "output_type": "stream",
          "name": "stdout",
          "text": [
            "CPU times: user 30.6 ms, sys: 23.5 ms, total: 54.2 ms\n",
            "Wall time: 59.4 ms\n"
          ]
        }
      ]
    },
    {
      "cell_type": "code",
      "source": [
        "%%time\n",
        "test = dd.read_csv('/content/drive/MyDrive/Colab Notebooks/data_analysis/reducing-commercial-aviation-fatalities/test.csv',\n",
        "                    blocksize = 256e6, dtype=dtypes)\n",
        "# test_df = pd.read_csv('/content/drive/MyDrive/Colab Notebooks/data_analysis/reducing-commercial-aviation-fatalities/test.csv',dtype=dtypes)"
      ],
      "metadata": {
        "colab": {
          "base_uri": "https://localhost:8080/"
        },
        "id": "GVR7g6lcVDJ-",
        "outputId": "4992002c-19af-4e1e-e487-b1c15de21e6b"
      },
      "execution_count": 29,
      "outputs": [
        {
          "output_type": "stream",
          "name": "stdout",
          "text": [
            "CPU times: user 115 ms, sys: 79.8 ms, total: 195 ms\n",
            "Wall time: 183 ms\n"
          ]
        }
      ]
    },
    {
      "cell_type": "code",
      "source": [
        "%%time\n",
        "train = train.compute()\n",
        "print(\"Training shape : \", train.shape)"
      ],
      "metadata": {
        "colab": {
          "base_uri": "https://localhost:8080/"
        },
        "id": "3WibE_-zYgSC",
        "outputId": "edb7ae68-b9ce-4e02-d76b-deebb843bbb0"
      },
      "execution_count": 27,
      "outputs": [
        {
          "output_type": "stream",
          "name": "stdout",
          "text": [
            "Training shape :  (4867421, 28)\n",
            "CPU times: user 41.2 s, sys: 1.45 s, total: 42.6 s\n",
            "Wall time: 32.9 s\n"
          ]
        }
      ]
    },
    {
      "cell_type": "code",
      "source": [
        "%%time\n",
        "test = test.compute()\n",
        "print(\"Testing shape : \", test.shape)\n",
        "# print(gc.collect())"
      ],
      "metadata": {
        "colab": {
          "base_uri": "https://localhost:8080/"
        },
        "id": "hUftpMrbYwdz",
        "outputId": "399bbf3d-c7a6-4c43-91af-663f0a0fb69b"
      },
      "execution_count": 30,
      "outputs": [
        {
          "output_type": "stream",
          "name": "stdout",
          "text": [
            "Testing shape :  (17965143, 28)\n",
            "CPU times: user 2min 31s, sys: 16.2 s, total: 2min 48s\n",
            "Wall time: 2min 26s\n"
          ]
        }
      ]
    },
    {
      "cell_type": "code",
      "source": [
        "train_df = train.copy()\n",
        "test_df = test.copy()"
      ],
      "metadata": {
        "id": "v4A8NN2JaZlk"
      },
      "execution_count": 31,
      "outputs": []
    },
    {
      "cell_type": "code",
      "source": [
        "import gc\n",
        "gc.collect()"
      ],
      "metadata": {
        "colab": {
          "base_uri": "https://localhost:8080/"
        },
        "id": "TC8idputbKAO",
        "outputId": "974a712e-acbd-4ffe-b868-f5bf144e35cc"
      },
      "execution_count": 32,
      "outputs": [
        {
          "output_type": "execute_result",
          "data": {
            "text/plain": [
              "1320"
            ]
          },
          "metadata": {},
          "execution_count": 32
        }
      ]
    },
    {
      "cell_type": "code",
      "source": [
        "test_id = test_df['id']\n",
        "\n",
        "dic = {'A': 0,'B':1,'C': 2, 'D':3}\n",
        "dic1 = {'CA':0, 'DA':1, 'SS':3, 'LOFT':4}\n",
        "train_df['event'] = train_df['event'].apply(lambda x:dic[x])\n",
        "train_df['event'] = train_df['event'].astype('int8')\n",
        "train_df['experiment'] = train_df['experiment'].apply(lambda x:dic1[x])\n",
        "test_df['experiment'] = test_df['experiment'].apply(lambda x:dic1[x])\n",
        "\n",
        "train_df['experiment'] = train_df['experiment'].astype('int8')\n",
        "test_df['exdperiment'] = test_df['experiment'].astype('int8')\n",
        "\n",
        "y = train_df['event']"
      ],
      "metadata": {
        "id": "PA79pfwDbNi1"
      },
      "execution_count": 33,
      "outputs": []
    },
    {
      "cell_type": "code",
      "source": [
        "tr_col = train_df.columns"
      ],
      "metadata": {
        "id": "jUHjAhZAd8NF"
      },
      "execution_count": 34,
      "outputs": []
    },
    {
      "cell_type": "code",
      "source": [
        "test_df.head()"
      ],
      "metadata": {
        "id": "3Vbu25HAd_iD",
        "outputId": "95d19473-45d6-4836-f96b-c8f2d14511e6",
        "colab": {
          "base_uri": "https://localhost:8080/",
          "height": 300
        }
      },
      "execution_count": 35,
      "outputs": [
        {
          "output_type": "execute_result",
          "data": {
            "text/plain": [
              "   id  crew experiment      time  seat    eeg_fp1     eeg_f7     eeg_f8  \\\n",
              "0   0     1          4  0.000000     0  17.899500   6.127830   0.994807   \n",
              "1   1     1          4  0.000000     1  45.883202  94.749001  23.290800   \n",
              "2   2     1          4  0.003906     0  33.120098  28.356501  -7.239220   \n",
              "3   3     1          4  0.003906     1  43.280102  95.887001  18.702299   \n",
              "4   4     1          4  0.007812     0   7.929110   3.460380 -10.860800   \n",
              "\n",
              "      eeg_t4     eeg_t6  ...      eeg_c4    eeg_p4   eeg_poz    eeg_c3  \\\n",
              "0 -28.206200 -47.695499  ...  -14.405100  -4.03384 -0.393799  31.83810   \n",
              "1   1.392000   2.060940  ... -215.179001   2.11832  7.340940   9.66785   \n",
              "2  -7.690860 -25.833799  ...  -10.363600  10.95050  6.513360  36.01860   \n",
              "3  -1.432890  -4.232600  ... -214.223007  -4.91354  3.504520   3.87811   \n",
              "4 -26.366699 -25.894699  ...  -20.788799  -3.61418 -7.539830   3.08397   \n",
              "\n",
              "        eeg_cz    eeg_o2          ecg           r         gsr  exdperiment  \n",
              "0    17.075600 -8.137350 -7323.120117  643.177002  594.778992            4  \n",
              "1  1169.239990 -0.024414 -3335.080078  826.724976  136.235001            4  \n",
              "2    24.356600  0.956158 -7323.120117  643.177002  594.778992            4  \n",
              "3  1159.400024 -0.047607 -3335.080078  826.724976  136.235001            4  \n",
              "4    13.647900  1.473720 -7323.120117  643.177002  594.778992            4  \n",
              "\n",
              "[5 rows x 29 columns]"
            ],
            "text/html": [
              "\n",
              "  <div id=\"df-29f1717a-1c03-4ad8-96e3-1f50ab8185aa\">\n",
              "    <div class=\"colab-df-container\">\n",
              "      <div>\n",
              "<style scoped>\n",
              "    .dataframe tbody tr th:only-of-type {\n",
              "        vertical-align: middle;\n",
              "    }\n",
              "\n",
              "    .dataframe tbody tr th {\n",
              "        vertical-align: top;\n",
              "    }\n",
              "\n",
              "    .dataframe thead th {\n",
              "        text-align: right;\n",
              "    }\n",
              "</style>\n",
              "<table border=\"1\" class=\"dataframe\">\n",
              "  <thead>\n",
              "    <tr style=\"text-align: right;\">\n",
              "      <th></th>\n",
              "      <th>id</th>\n",
              "      <th>crew</th>\n",
              "      <th>experiment</th>\n",
              "      <th>time</th>\n",
              "      <th>seat</th>\n",
              "      <th>eeg_fp1</th>\n",
              "      <th>eeg_f7</th>\n",
              "      <th>eeg_f8</th>\n",
              "      <th>eeg_t4</th>\n",
              "      <th>eeg_t6</th>\n",
              "      <th>...</th>\n",
              "      <th>eeg_c4</th>\n",
              "      <th>eeg_p4</th>\n",
              "      <th>eeg_poz</th>\n",
              "      <th>eeg_c3</th>\n",
              "      <th>eeg_cz</th>\n",
              "      <th>eeg_o2</th>\n",
              "      <th>ecg</th>\n",
              "      <th>r</th>\n",
              "      <th>gsr</th>\n",
              "      <th>exdperiment</th>\n",
              "    </tr>\n",
              "  </thead>\n",
              "  <tbody>\n",
              "    <tr>\n",
              "      <th>0</th>\n",
              "      <td>0</td>\n",
              "      <td>1</td>\n",
              "      <td>4</td>\n",
              "      <td>0.000000</td>\n",
              "      <td>0</td>\n",
              "      <td>17.899500</td>\n",
              "      <td>6.127830</td>\n",
              "      <td>0.994807</td>\n",
              "      <td>-28.206200</td>\n",
              "      <td>-47.695499</td>\n",
              "      <td>...</td>\n",
              "      <td>-14.405100</td>\n",
              "      <td>-4.03384</td>\n",
              "      <td>-0.393799</td>\n",
              "      <td>31.83810</td>\n",
              "      <td>17.075600</td>\n",
              "      <td>-8.137350</td>\n",
              "      <td>-7323.120117</td>\n",
              "      <td>643.177002</td>\n",
              "      <td>594.778992</td>\n",
              "      <td>4</td>\n",
              "    </tr>\n",
              "    <tr>\n",
              "      <th>1</th>\n",
              "      <td>1</td>\n",
              "      <td>1</td>\n",
              "      <td>4</td>\n",
              "      <td>0.000000</td>\n",
              "      <td>1</td>\n",
              "      <td>45.883202</td>\n",
              "      <td>94.749001</td>\n",
              "      <td>23.290800</td>\n",
              "      <td>1.392000</td>\n",
              "      <td>2.060940</td>\n",
              "      <td>...</td>\n",
              "      <td>-215.179001</td>\n",
              "      <td>2.11832</td>\n",
              "      <td>7.340940</td>\n",
              "      <td>9.66785</td>\n",
              "      <td>1169.239990</td>\n",
              "      <td>-0.024414</td>\n",
              "      <td>-3335.080078</td>\n",
              "      <td>826.724976</td>\n",
              "      <td>136.235001</td>\n",
              "      <td>4</td>\n",
              "    </tr>\n",
              "    <tr>\n",
              "      <th>2</th>\n",
              "      <td>2</td>\n",
              "      <td>1</td>\n",
              "      <td>4</td>\n",
              "      <td>0.003906</td>\n",
              "      <td>0</td>\n",
              "      <td>33.120098</td>\n",
              "      <td>28.356501</td>\n",
              "      <td>-7.239220</td>\n",
              "      <td>-7.690860</td>\n",
              "      <td>-25.833799</td>\n",
              "      <td>...</td>\n",
              "      <td>-10.363600</td>\n",
              "      <td>10.95050</td>\n",
              "      <td>6.513360</td>\n",
              "      <td>36.01860</td>\n",
              "      <td>24.356600</td>\n",
              "      <td>0.956158</td>\n",
              "      <td>-7323.120117</td>\n",
              "      <td>643.177002</td>\n",
              "      <td>594.778992</td>\n",
              "      <td>4</td>\n",
              "    </tr>\n",
              "    <tr>\n",
              "      <th>3</th>\n",
              "      <td>3</td>\n",
              "      <td>1</td>\n",
              "      <td>4</td>\n",
              "      <td>0.003906</td>\n",
              "      <td>1</td>\n",
              "      <td>43.280102</td>\n",
              "      <td>95.887001</td>\n",
              "      <td>18.702299</td>\n",
              "      <td>-1.432890</td>\n",
              "      <td>-4.232600</td>\n",
              "      <td>...</td>\n",
              "      <td>-214.223007</td>\n",
              "      <td>-4.91354</td>\n",
              "      <td>3.504520</td>\n",
              "      <td>3.87811</td>\n",
              "      <td>1159.400024</td>\n",
              "      <td>-0.047607</td>\n",
              "      <td>-3335.080078</td>\n",
              "      <td>826.724976</td>\n",
              "      <td>136.235001</td>\n",
              "      <td>4</td>\n",
              "    </tr>\n",
              "    <tr>\n",
              "      <th>4</th>\n",
              "      <td>4</td>\n",
              "      <td>1</td>\n",
              "      <td>4</td>\n",
              "      <td>0.007812</td>\n",
              "      <td>0</td>\n",
              "      <td>7.929110</td>\n",
              "      <td>3.460380</td>\n",
              "      <td>-10.860800</td>\n",
              "      <td>-26.366699</td>\n",
              "      <td>-25.894699</td>\n",
              "      <td>...</td>\n",
              "      <td>-20.788799</td>\n",
              "      <td>-3.61418</td>\n",
              "      <td>-7.539830</td>\n",
              "      <td>3.08397</td>\n",
              "      <td>13.647900</td>\n",
              "      <td>1.473720</td>\n",
              "      <td>-7323.120117</td>\n",
              "      <td>643.177002</td>\n",
              "      <td>594.778992</td>\n",
              "      <td>4</td>\n",
              "    </tr>\n",
              "  </tbody>\n",
              "</table>\n",
              "<p>5 rows × 29 columns</p>\n",
              "</div>\n",
              "      <button class=\"colab-df-convert\" onclick=\"convertToInteractive('df-29f1717a-1c03-4ad8-96e3-1f50ab8185aa')\"\n",
              "              title=\"Convert this dataframe to an interactive table.\"\n",
              "              style=\"display:none;\">\n",
              "        \n",
              "  <svg xmlns=\"http://www.w3.org/2000/svg\" height=\"24px\"viewBox=\"0 0 24 24\"\n",
              "       width=\"24px\">\n",
              "    <path d=\"M0 0h24v24H0V0z\" fill=\"none\"/>\n",
              "    <path d=\"M18.56 5.44l.94 2.06.94-2.06 2.06-.94-2.06-.94-.94-2.06-.94 2.06-2.06.94zm-11 1L8.5 8.5l.94-2.06 2.06-.94-2.06-.94L8.5 2.5l-.94 2.06-2.06.94zm10 10l.94 2.06.94-2.06 2.06-.94-2.06-.94-.94-2.06-.94 2.06-2.06.94z\"/><path d=\"M17.41 7.96l-1.37-1.37c-.4-.4-.92-.59-1.43-.59-.52 0-1.04.2-1.43.59L10.3 9.45l-7.72 7.72c-.78.78-.78 2.05 0 2.83L4 21.41c.39.39.9.59 1.41.59.51 0 1.02-.2 1.41-.59l7.78-7.78 2.81-2.81c.8-.78.8-2.07 0-2.86zM5.41 20L4 18.59l7.72-7.72 1.47 1.35L5.41 20z\"/>\n",
              "  </svg>\n",
              "      </button>\n",
              "      \n",
              "  <style>\n",
              "    .colab-df-container {\n",
              "      display:flex;\n",
              "      flex-wrap:wrap;\n",
              "      gap: 12px;\n",
              "    }\n",
              "\n",
              "    .colab-df-convert {\n",
              "      background-color: #E8F0FE;\n",
              "      border: none;\n",
              "      border-radius: 50%;\n",
              "      cursor: pointer;\n",
              "      display: none;\n",
              "      fill: #1967D2;\n",
              "      height: 32px;\n",
              "      padding: 0 0 0 0;\n",
              "      width: 32px;\n",
              "    }\n",
              "\n",
              "    .colab-df-convert:hover {\n",
              "      background-color: #E2EBFA;\n",
              "      box-shadow: 0px 1px 2px rgba(60, 64, 67, 0.3), 0px 1px 3px 1px rgba(60, 64, 67, 0.15);\n",
              "      fill: #174EA6;\n",
              "    }\n",
              "\n",
              "    [theme=dark] .colab-df-convert {\n",
              "      background-color: #3B4455;\n",
              "      fill: #D2E3FC;\n",
              "    }\n",
              "\n",
              "    [theme=dark] .colab-df-convert:hover {\n",
              "      background-color: #434B5C;\n",
              "      box-shadow: 0px 1px 3px 1px rgba(0, 0, 0, 0.15);\n",
              "      filter: drop-shadow(0px 1px 2px rgba(0, 0, 0, 0.3));\n",
              "      fill: #FFFFFF;\n",
              "    }\n",
              "  </style>\n",
              "\n",
              "      <script>\n",
              "        const buttonEl =\n",
              "          document.querySelector('#df-29f1717a-1c03-4ad8-96e3-1f50ab8185aa button.colab-df-convert');\n",
              "        buttonEl.style.display =\n",
              "          google.colab.kernel.accessAllowed ? 'block' : 'none';\n",
              "\n",
              "        async function convertToInteractive(key) {\n",
              "          const element = document.querySelector('#df-29f1717a-1c03-4ad8-96e3-1f50ab8185aa');\n",
              "          const dataTable =\n",
              "            await google.colab.kernel.invokeFunction('convertToInteractive',\n",
              "                                                     [key], {});\n",
              "          if (!dataTable) return;\n",
              "\n",
              "          const docLinkHtml = 'Like what you see? Visit the ' +\n",
              "            '<a target=\"_blank\" href=https://colab.research.google.com/notebooks/data_table.ipynb>data table notebook</a>'\n",
              "            + ' to learn more about interactive tables.';\n",
              "          element.innerHTML = '';\n",
              "          dataTable['output_type'] = 'display_data';\n",
              "          await google.colab.output.renderOutput(dataTable, element);\n",
              "          const docLink = document.createElement('div');\n",
              "          docLink.innerHTML = docLinkHtml;\n",
              "          element.appendChild(docLink);\n",
              "        }\n",
              "      </script>\n",
              "    </div>\n",
              "  </div>\n",
              "  "
            ]
          },
          "metadata": {},
          "execution_count": 35
        }
      ]
    },
    {
      "cell_type": "code",
      "source": [
        ""
      ],
      "metadata": {
        "id": "XH2QQGeHeEmG"
      },
      "execution_count": null,
      "outputs": []
    }
  ]
}