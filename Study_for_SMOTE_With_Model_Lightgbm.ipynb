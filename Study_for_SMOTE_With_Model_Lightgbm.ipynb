{
  "nbformat": 4,
  "nbformat_minor": 0,
  "metadata": {
    "colab": {
      "name": "Study for SMOTE With Model Lightgbm.ipynb",
      "provenance": [],
      "collapsed_sections": []
    },
    "kernelspec": {
      "name": "python3",
      "display_name": "Python 3"
    },
    "language_info": {
      "name": "python"
    },
    "accelerator": "GPU"
  },
  "cells": [
    {
      "cell_type": "markdown",
      "source": [
        "출처:https://www.kaggle.com/code/ashishpatel26/smote-with-model-lightgbm"
      ],
      "metadata": {
        "id": "NxvDimfhLuGJ"
      }
    },
    {
      "cell_type": "markdown",
      "source": [
        "### lightgbm(Light Gradient Boosting Machine):\n",
        " 기계 학습을위한 무료 오픈 소스 분산 경사하강법(Gradient Boostiong) 프레임 워크\n",
        "### tqdm\n",
        " 실행 시간이 긴 코드에 대한 진행상황을 확인 가능하도록 하는 라이브러리\n",
        "### dask\n",
        " 병렬컴퓨팅을 위한 라이브러리"
      ],
      "metadata": {
        "id": "uaC4TbT8Mkgy"
      }
    },
    {
      "cell_type": "markdown",
      "source": [
        "### dask.dataframe을 import 할 때 오류가 발생할 경우 아래 코드 실행\n",
        "```\n",
        "pip install dask[dataframe] --upgrade\n",
        "```"
      ],
      "metadata": {
        "id": "5V8nuE6rUHrS"
      }
    },
    {
      "cell_type": "code",
      "source": [
        "pip install dask[dataframe] --upgrade"
      ],
      "metadata": {
        "colab": {
          "base_uri": "https://localhost:8080/"
        },
        "id": "IOZy_BGjO8Jm",
        "outputId": "fc70ad68-81c8-4888-b826-8f2c575ec7e9"
      },
      "execution_count": 2,
      "outputs": [
        {
          "output_type": "stream",
          "name": "stdout",
          "text": [
            "Requirement already satisfied: dask[dataframe] in /usr/local/lib/python3.7/dist-packages (2.12.0)\n",
            "Requirement already satisfied: numpy>=1.13.0 in /usr/local/lib/python3.7/dist-packages (from dask[dataframe]) (1.21.5)\n",
            "Collecting fsspec>=0.6.0\n",
            "  Downloading fsspec-2022.3.0-py3-none-any.whl (136 kB)\n",
            "\u001b[K     |████████████████████████████████| 136 kB 4.2 MB/s \n",
            "\u001b[?25hCollecting partd>=0.3.10\n",
            "  Downloading partd-1.2.0-py3-none-any.whl (19 kB)\n",
            "Requirement already satisfied: toolz>=0.7.3 in /usr/local/lib/python3.7/dist-packages (from dask[dataframe]) (0.11.2)\n",
            "Requirement already satisfied: pandas>=0.23.0 in /usr/local/lib/python3.7/dist-packages (from dask[dataframe]) (1.3.5)\n",
            "Requirement already satisfied: pytz>=2017.3 in /usr/local/lib/python3.7/dist-packages (from pandas>=0.23.0->dask[dataframe]) (2018.9)\n",
            "Requirement already satisfied: python-dateutil>=2.7.3 in /usr/local/lib/python3.7/dist-packages (from pandas>=0.23.0->dask[dataframe]) (2.8.2)\n",
            "Collecting locket\n",
            "  Downloading locket-0.2.1-py2.py3-none-any.whl (4.1 kB)\n",
            "Requirement already satisfied: six>=1.5 in /usr/local/lib/python3.7/dist-packages (from python-dateutil>=2.7.3->pandas>=0.23.0->dask[dataframe]) (1.15.0)\n",
            "Installing collected packages: locket, partd, fsspec\n",
            "Successfully installed fsspec-2022.3.0 locket-0.2.1 partd-1.2.0\n"
          ]
        }
      ]
    },
    {
      "cell_type": "code",
      "source": [
        "import warnings\n",
        "import itertools\n",
        "import numpy as np \n",
        "import pandas as pd\n",
        "import seaborn as sns\n",
        "import lightgbm as lgb\n",
        "import matplotlib.pyplot as plt\n",
        "from tqdm import tqdm_notebook as tqdm\n",
        "from sklearn.preprocessing import MinMaxScaler\n",
        "from sklearn.model_selection import train_test_split\n",
        "from sklearn.metrics import confusion_matrix, log_loss\n",
        "import dask\n",
        "import dask.dataframe as dd\n",
        "import gc\n",
        "\n",
        "from yellowbrick.text import TSNEVisualizer\n",
        "\n",
        "%matplotlib inline\n",
        "plt.style.use(\"fivethirtyeight\")\n",
        "\n",
        "import os\n",
        "print(os.listdir('/content/drive/MyDrive/Colab Notebooks/data_analysis/reducing-commercial-aviation-fatalities'))\n",
        "\n",
        "warnings.simplefilter(action='ignore')\n",
        "sns.set_style('whitegrid')"
      ],
      "metadata": {
        "id": "LAqMPig_Ltqu"
      },
      "execution_count": null,
      "outputs": []
    },
    {
      "cell_type": "markdown",
      "source": [
        "데이터 불러오기"
      ],
      "metadata": {
        "id": "zmf7bMR3P2yV"
      }
    },
    {
      "cell_type": "code",
      "execution_count": null,
      "metadata": {
        "id": "CSbdau3TLpSm"
      },
      "outputs": [],
      "source": [
        "def gc():\n",
        "    print(gc.collect())\n",
        "\n",
        "\n",
        "dtypes = {\"crew\": \"int8\",\n",
        "          \"experiment\": \"category\",\n",
        "          \"time\": \"float32\",\n",
        "          \"seat\": \"int8\",\n",
        "          \"eeg_fp1\": \"float32\",\n",
        "          \"eeg_f7\": \"float32\",\n",
        "          \"eeg_f8\": \"float32\",\n",
        "          \"eeg_t4\": \"float32\",\n",
        "          \"eeg_t6\": \"float32\",\n",
        "          \"eeg_t5\": \"float32\",\n",
        "          \"eeg_t3\": \"float32\",\n",
        "          \"eeg_fp2\": \"float32\",\n",
        "          \"eeg_o1\": \"float32\",\n",
        "          \"eeg_p3\": \"float32\",\n",
        "          \"eeg_pz\": \"float32\",\n",
        "          \"eeg_f3\": \"float32\",\n",
        "          \"eeg_fz\": \"float32\",\n",
        "          \"eeg_f4\": \"float32\",\n",
        "          \"eeg_c4\": \"float32\",\n",
        "          \"eeg_p4\": \"float32\",\n",
        "          \"eeg_poz\": \"float32\",\n",
        "          \"eeg_c3\": \"float32\",\n",
        "          \"eeg_cz\": \"float32\",\n",
        "          \"eeg_o2\": \"float32\",\n",
        "          \"ecg\": \"float32\",\n",
        "          \"r\": \"float32\",\n",
        "          \"gsr\": \"float32\",\n",
        "          \"event\": \"category\",\n",
        "         }\n",
        "\n",
        "def plot_confusion_matrix(cm, classes,\n",
        "                          normalize=True,\n",
        "                          title='Confusion matrix',\n",
        "                          cmap=plt.cm.Blues):\n",
        "    if normalize:\n",
        "        cm = cm.astype('float') / cm.sum(axis=1)[:, np.newaxis]\n",
        "        print(\"Normalized confusion matrix\")\n",
        "    else: \n",
        "        print('Confusion matrix, without normalization')\n",
        "    \n",
        "    print(cm)\n",
        "\n",
        "    plt.imshow(cm, interpolation='nearest', cmap=cmap)\n",
        "    plt.title(title)\n",
        "    plt.colorbar()\n",
        "    tick_marks = np.arange(len(classes))\n",
        "    plt.xticks(tick_marks, classes, rotation=45)\n",
        "    plt.yticks(tick_marks, classes)\n",
        "\n",
        "    fmt = '.2f' if normalize else 'd'\n",
        "    thresh = cm.max()/2\n",
        "    for i, j in itertools,product(range(cm.shape[0]), range(cm.shape[1])):\n",
        "        plt.text(j,i,format(cm[i,j],fmt),\n",
        "                 gorizontalalignment=\"center\",\n",
        "                 color='white' if cm[i, j] > thresh else \"black\")\n",
        "\n",
        "    plt.ylabel('True label')\n",
        "    plt.xlabel('Predicted label')\n",
        "    plt.tight_layout()"
      ]
    },
    {
      "cell_type": "code",
      "source": [
        "%%time\n",
        "train = dd.read_csv('/content/drive/MyDrive/Colab Notebooks/data_analysis/reducing-commercial-aviation-fatalities/train.csv',\n",
        "                    blocksize = 256e6, dtype=dtypes)"
      ],
      "metadata": {
        "id": "Lpa754sxSIzH"
      },
      "execution_count": null,
      "outputs": []
    },
    {
      "cell_type": "code",
      "source": [
        "%%time\n",
        "test = dd.read_csv('/content/drive/MyDrive/Colab Notebooks/data_analysis/reducing-commercial-aviation-fatalities/test.csv',\n",
        "                    blocksize = 256e6, dtype=dtypes)\n",
        "# test_df = pd.read_csv('/content/drive/MyDrive/Colab Notebooks/data_analysis/reducing-commercial-aviation-fatalities/test.csv',dtype=dtypes)"
      ],
      "metadata": {
        "id": "GVR7g6lcVDJ-"
      },
      "execution_count": null,
      "outputs": []
    },
    {
      "cell_type": "code",
      "source": [
        "%%time\n",
        "train = train.compute()\n",
        "print(\"Training shape : \", train.shape)"
      ],
      "metadata": {
        "id": "3WibE_-zYgSC"
      },
      "execution_count": null,
      "outputs": []
    },
    {
      "cell_type": "code",
      "source": [
        "%%time\n",
        "test = test.compute()\n",
        "print(\"Testing shape : \", test.shape)\n",
        "# print(gc.collect())"
      ],
      "metadata": {
        "id": "hUftpMrbYwdz"
      },
      "execution_count": null,
      "outputs": []
    },
    {
      "cell_type": "code",
      "source": [
        "train_df = train.copy()\n",
        "test_df = test.copy()"
      ],
      "metadata": {
        "id": "v4A8NN2JaZlk"
      },
      "execution_count": null,
      "outputs": []
    },
    {
      "cell_type": "code",
      "source": [
        "import gc\n",
        "gc.collect()"
      ],
      "metadata": {
        "id": "TC8idputbKAO"
      },
      "execution_count": null,
      "outputs": []
    },
    {
      "cell_type": "code",
      "source": [
        "test_id = test_df['id']\n",
        "\n",
        "dic = {'A': 0,'B':1,'C': 2, 'D':3}\n",
        "dic1 = {'CA':0, 'DA':1, 'SS':3, 'LOFT':4}\n",
        "train_df['event'] = train_df['event'].apply(lambda x:dic[x])\n",
        "train_df['event'] = train_df['event'].astype('int8')\n",
        "train_df['experiment'] = train_df['experiment'].apply(lambda x:dic1[x])\n",
        "test_df['experiment'] = test_df['experiment'].apply(lambda x:dic1[x])\n",
        "\n",
        "train_df['experiment'] = train_df['experiment'].astype('int8')\n",
        "test_df['exdperiment'] = test_df['experiment'].astype('int8')\n",
        "\n",
        "y = train_df['event']"
      ],
      "metadata": {
        "id": "PA79pfwDbNi1"
      },
      "execution_count": null,
      "outputs": []
    },
    {
      "cell_type": "code",
      "source": [
        "tr_col = train_df.columns"
      ],
      "metadata": {
        "id": "jUHjAhZAd8NF"
      },
      "execution_count": null,
      "outputs": []
    },
    {
      "cell_type": "code",
      "source": [
        "test_df.head()"
      ],
      "metadata": {
        "id": "3Vbu25HAd_iD"
      },
      "execution_count": null,
      "outputs": []
    },
    {
      "cell_type": "code",
      "source": [
        "train_df.shape, test.shape"
      ],
      "metadata": {
        "id": "XH2QQGeHeEmG"
      },
      "execution_count": null,
      "outputs": []
    },
    {
      "cell_type": "markdown",
      "source": [
        "#EDA"
      ],
      "metadata": {
        "id": "B-mkWd1YeXMM"
      }
    },
    {
      "cell_type": "code",
      "source": [
        "plt.figure(figsize=(15,10))\n",
        "sns.countplot(train_df['event'])\n",
        "plt.xlabel('State of the pilot', fontsize=12)\n",
        "plt.ylabel('Count', fontsize=12)\n",
        "plt.title(\"'event' column's Distribution\", fontsize=15)\n",
        "plt.show()"
      ],
      "metadata": {
        "id": "RbMxzWxOePJv"
      },
      "execution_count": null,
      "outputs": []
    },
    {
      "cell_type": "code",
      "source": [
        "plt.figure(figsize=(15,10))\n",
        "sns.countplot('experiment', hue='event', data=train_df)\n",
        "plt.xlabel('Experiment and state of the pilot', fontsize=12)\n",
        "plt.ylabel('Count(log)', fontsize=12)\n",
        "plt.yscale('log')\n",
        "plt.title(\"'experiment' column's Distribution'\", fontsize=15)\n",
        "plt.show()"
      ],
      "metadata": {
        "id": "d2aye0kne2t2"
      },
      "execution_count": null,
      "outputs": []
    },
    {
      "cell_type": "markdown",
      "source": [
        "### Seat"
      ],
      "metadata": {
        "id": "I5nYQkZ2jcuL"
      }
    },
    {
      "cell_type": "code",
      "source": [
        "plt.figure(figsize=(15,10))\n",
        "sns.countplot('event', hue='seat', data=train_df)\n",
        "plt.xlabel('Seat and state of the pilot', fontsize=12)\n",
        "plt.ylabel('Count(log)', fontsize=12)\n",
        "plt.yscale('log')\n",
        "plt.title(\"'seat' column's Distribution\", fontsize=15)\n",
        "plt.show()"
      ],
      "metadata": {
        "id": "zwy_HEhTfgNe"
      },
      "execution_count": null,
      "outputs": []
    },
    {
      "cell_type": "code",
      "source": [
        "plt.figure(figsize=(15,10))\n",
        "sns.violinplot(x='event',y='time', data=train_df.sample(50000))\n",
        "plt.xlabel('Event',fontsize=12)\n",
        "plt.ylabel('Time(s)',fontsize=12)\n",
        "plt.title('Distribution of events over time', fontsize= 15)\n",
        "plt.show()"
      ],
      "metadata": {
        "id": "9jhASQWoh8sP"
      },
      "execution_count": null,
      "outputs": []
    },
    {
      "cell_type": "code",
      "source": [
        "plt.figure(figsize=(15,10))\n",
        "sns.distplot(test_df['time'], label='Test set')\n",
        "sns.distplot(train_df['time'], label='Train set')\n",
        "plt.xlabel('Time(s)', fontsize=12)\n",
        "plt.legend()\n",
        "plt.title('Reparition of the time feature', fontsize=15)\n",
        "plt.show()"
      ],
      "metadata": {
        "id": "B2XLSZDfigtf"
      },
      "execution_count": null,
      "outputs": []
    },
    {
      "cell_type": "code",
      "source": [
        "plt.figure(figsize=(15,10))\n",
        "sns.histplot(test_df['time'], label='Test set', color='r')\n",
        "sns.histplot(train_df['time'], label='Train set',color='b')\n",
        "plt.xlabel('Time(s)', fontsize=12)\n",
        "plt.legend()\n",
        "plt.title('Distribution of time values', fontsize=15)\n",
        "plt.show()"
      ],
      "metadata": {
        "id": "syZm9t7R2A58"
      },
      "execution_count": null,
      "outputs": []
    },
    {
      "cell_type": "markdown",
      "source": [
        "### EGG"
      ],
      "metadata": {
        "id": "NEU4qYvxjYIn"
      }
    },
    {
      "cell_type": "code",
      "source": [
        "eeg_features = [\"eeg_fp1\", \"eeg_f7\", \"eeg_f8\", \"eeg_t4\", \"eeg_t6\", \"eeg_t5\", \"eeg_t3\", \"eeg_fp2\", \"eeg_o1\", \"eeg_p3\", \"eeg_pz\", \"eeg_f3\", \"eeg_fz\", \"eeg_f4\", \"eeg_c4\", \"eeg_p4\", \"eeg_poz\", \"eeg_c3\", \"eeg_cz\", \"eeg_o2\"]"
      ],
      "metadata": {
        "id": "_DCWv_ZnjAsZ"
      },
      "execution_count": null,
      "outputs": []
    },
    {
      "cell_type": "code",
      "source": [
        "plt.figure(figsize=(15,10))\n",
        "i = 0\n",
        "\n",
        "for egg in eeg_features:\n",
        "    i += 1\n",
        "    plt.subplot(5,4,i)\n",
        "    sns.boxplot(x='event', y=egg, data=train_df.sample(50000), showfliers=False)\n",
        "plt.show()"
      ],
      "metadata": {
        "id": "XziIcPuKjhi3"
      },
      "execution_count": null,
      "outputs": []
    },
    {
      "cell_type": "code",
      "source": [
        "plt.figure(figsize=(20,25))\n",
        "plt.title('Eeg features distributions')\n",
        "i = 0\n",
        "\n",
        "for eeg in eeg_features:\n",
        "    i+=1\n",
        "    plt.subplot(5,4,i)\n",
        "    sns.distplot(test_df.sample(10000)[eeg], label='Test set', hist =False)\n",
        "    sns.distplot(train_df.sample(10000)[eeg], label='Train set', hist=False)\n",
        "    plt.xlim((-500, 500))\n",
        "    plt.legend()\n",
        "    plt.xlabel(eeg, fontsize=12)\n",
        "\n",
        "plt.show()"
      ],
      "metadata": {
        "id": "XV77Cr5WkAe-"
      },
      "execution_count": null,
      "outputs": []
    },
    {
      "cell_type": "markdown",
      "source": [
        "###Electrocardiogram"
      ],
      "metadata": {
        "id": "gCiXrcpcmNzl"
      }
    },
    {
      "cell_type": "code",
      "source": [
        "plt.figure(figsize=(15,10))\n",
        "sns.violinplot(x='event',y='ecg', data=train_df.sample(50000))\n",
        "plt.ylabel('Electrocardiogram Signal(mv)', fontsize=12)\n",
        "plt.xlabel('Event', fontsize=12)\n",
        "plt.title('Electrocardiogram signal influence', fontsize=15)\n",
        "plt.show()"
      ],
      "metadata": {
        "id": "nod_L3BHmAfb"
      },
      "execution_count": null,
      "outputs": []
    },
    {
      "cell_type": "code",
      "source": [
        "plt.figure(figsize=(15,10))\n",
        "sns.distplot(test_df['ecg'],label='Test set')\n",
        "sns.distplot(train_df['ecg'],label='Train set')\n",
        "plt.legend()\n",
        "plt.xlabel('Electrocardiogram Signal(mv)', fontsize=12)\n",
        "plt.title('Electrocardiogram Signal Distribution', fontsize=15)\n",
        "plt.show()"
      ],
      "metadata": {
        "id": "XUwjNsFMmyfR"
      },
      "execution_count": null,
      "outputs": []
    },
    {
      "cell_type": "code",
      "source": [
        "plt.figure(figsize=(15,10))\n",
        "sns.violinplot(x='event', y='r', data=train_df.sample(50000))\n",
        "plt.ylabel('Resiration Signal(mv)',fontsize=12)\n",
        "plt.xlabel('Event', fontsize=12)\n",
        "plt.title('Respiration influence', fontsize=15)\n",
        "plt.show()"
      ],
      "metadata": {
        "id": "Jt4ioLPOOCQO"
      },
      "execution_count": null,
      "outputs": []
    },
    {
      "cell_type": "code",
      "source": [
        "plt.figure(figsize=(15,10))\n",
        "sns.distplot(test_df['r'],label = 'Test set')\n",
        "sns.distplot(train_df['r'],label = 'Train set')\n",
        "plt.legend()\n",
        "plt.xlabel('Respiration Signal (mv)', fontsize = 12)\n",
        "plt.ylabel('Respiration Signal Distribution', fontsize = 12)\n",
        "plt.show()"
      ],
      "metadata": {
        "id": "ox0BIGBsOnS9"
      },
      "execution_count": null,
      "outputs": []
    },
    {
      "cell_type": "code",
      "source": [
        "plt.figure(figsize=(15,10))\n",
        "sns.violinplot('event','gsr', data=train_df.sample(50000))\n",
        "plt.ylabel('Electrodermal activity measure (mv)', fontsize=12)\n",
        "plt.xlabel('Event', fontsize=12)\n",
        "plt.title('Electrodermal activity influence', fontsize=15)\n",
        "plt.show()"
      ],
      "metadata": {
        "id": "7g2L43jXPxC0"
      },
      "execution_count": null,
      "outputs": []
    },
    {
      "cell_type": "code",
      "source": [
        "plt.figure(figsize =(15,10))\n",
        "sns.distplot(test_df['gsr'], label='Test set')\n",
        "sns.distplot(train_df['gsr'], label='Train set')\n",
        "plt.legend()\n",
        "plt.xlabel('Electrodermal activity measure(mv)', fontsize = 12)\n",
        "plt.title('Electrodermal activity Distribution', fontsize =15)\n",
        "plt.show()"
      ],
      "metadata": {
        "id": "Ptbn1PMCQgPR"
      },
      "execution_count": null,
      "outputs": []
    },
    {
      "cell_type": "code",
      "source": [
        "train_df.shape, test_df.shape"
      ],
      "metadata": {
        "id": "ZG8EpFMPRVNL"
      },
      "execution_count": null,
      "outputs": []
    },
    {
      "cell_type": "code",
      "source": [
        "feature_n = [\"eeg_fp1\", \"eeg_f7\", \"eeg_f8\", \"eeg_t4\", \"eeg_t6\", \"eeg_t5\", \"eeg_t3\", \"eeg_fp2\", \"eeg_o1\", \"eeg_p3\", \"eeg_pz\", \"eeg_f3\", \"eeg_fz\", \"eeg_f4\", \"eeg_c4\", \"eeg_p4\", \"eeg_poz\", \"eeg_c3\", \"eeg_cz\", \"eeg_o2\", \"ecg\", \"r\", \"gsr\"]"
      ],
      "metadata": {
        "id": "gwiQf1qvRkFJ"
      },
      "execution_count": null,
      "outputs": []
    },
    {
      "cell_type": "code",
      "source": [
        "train_df['pilot'] = 100 * train_df['seat'] + train_df['crew']\n",
        "test_df['pilot'] = 100 * test_df['seat'] + test_df['crew']\n",
        "\n",
        "print('Number of pilots : ', len(train_df['pilot'].unique()))"
      ],
      "metadata": {
        "id": "goA2IwIbRu5P"
      },
      "execution_count": null,
      "outputs": []
    },
    {
      "cell_type": "code",
      "source": [
        "train_df.shape, test_df.shape"
      ],
      "metadata": {
        "id": "chCqQQGaTVUx"
      },
      "execution_count": null,
      "outputs": []
    },
    {
      "cell_type": "code",
      "source": [
        "tr_col = train_df.columns"
      ],
      "metadata": {
        "id": "BXeDgL-jTmtu"
      },
      "execution_count": null,
      "outputs": []
    },
    {
      "cell_type": "code",
      "source": [
        "scaler = MinMaxScaler()\n",
        "train_df = scaler.fit_transform(train_df)\n",
        "train_df = pd.DataFrame(train_df)\n",
        "train_df.columns = tr_col\n",
        "describe(train_df)"
      ],
      "metadata": {
        "id": "YORIDI4-WjaD"
      },
      "execution_count": null,
      "outputs": []
    },
    {
      "cell_type": "markdown",
      "source": [
        "## Solve Class Imvalance Problem Using SMOTE\n",
        "###SMOTE(synthetic minority oversampling technique)\n",
        " 데이터의 수가 적은 클래스의 표본을 가져와 임의의 값을 추가하여 새로운 샘플을 만들어 데이터에 추가하는 오버샘플링 방식이다.\n",
        " 데이터의 클래스 별 분포가 불균형할 때 사용하여 균형을 맞춘다."
      ],
      "metadata": {
        "id": "xHxqoK_ZW3fg"
      }
    },
    {
      "cell_type": "code",
      "source": [
        "#train_df = normalize_by_pilots(train_df)\n",
        "#test_df = normalize_by_pilots(test_df)\n",
        "from imblearn.over_sampling import SMOTE\n",
        "train_df, y = SMOTE().fit_resample(train_df, y.ravel())"
      ],
      "metadata": {
        "id": "aFL9pz_SW17w"
      },
      "execution_count": null,
      "outputs": []
    },
    {
      "cell_type": "code",
      "source": [
        "train_df.shape"
      ],
      "metadata": {
        "id": "t6fVvhJ8XgsM"
      },
      "execution_count": null,
      "outputs": []
    },
    {
      "cell_type": "code",
      "source": [
        "train_df = pd.DataFrame(train_df)\n",
        "train_df.columns = tr_col\n",
        "train_df.head()"
      ],
      "metadata": {
        "id": "EzqLwYN4ZloW"
      },
      "execution_count": null,
      "outputs": []
    },
    {
      "cell_type": "markdown",
      "source": [
        "### train 데이터와 test 데이터 나누기\n",
        "\n",
        "\n"
      ],
      "metadata": {
        "id": "Z6umutfYaQNV"
      }
    },
    {
      "cell_type": "code",
      "source": [
        "print(train_df.shape, test.shape)\n",
        "train_df, val_df = train_test_split(train_df, test_size=0.2, random_state=32)\n",
        "print(f\"Training on {train_df.shape[0]} samples.\")"
      ],
      "metadata": {
        "id": "kRKNmqe4aN8c"
      },
      "execution_count": null,
      "outputs": []
    },
    {
      "cell_type": "code",
      "source": [
        "features = ['crew','seat'] + features_n\n",
        "\n",
        "def run_lgb(df_train, df_test):\n",
        "    dic = {'A':0,'B':1,'C':2,'D':3}\n",
        "    try:\n",
        "        df_train['event'] = df_train[\"event\"].apply(lambda x: dic[x])\n",
        "        df_test['event'] = df_test['event'].apply(lambda x: dic[x])\n",
        "    except:\n",
        "        pass\n",
        "    \n",
        "    params = {'objective':'multiclass',\n",
        "              'num_class': 4,\n",
        "              'metric' : 'multi_error',\n",
        "              'num_leaves' : 30,\n",
        "              'min_child_weight' : 50,\n",
        "              'learning_rate' : 0.1,\n",
        "              'bagging_fraction' : 0.7,\n",
        "              'reg_alpha' : 0.15,\n",
        "              'reg_lambda' : 0.15,\n",
        "              'min_child_weight' : 50,\n",
        "              'bagging_seed' : 420,\n",
        "              'verbosity' : -1}\n",
        "    \n",
        "    lg_train = lgb.Dataset(df_train[features], label=(df_train['event']))\n",
        "    lg_test = lgb.Dataset(df_test[features], label=(df_test['event']))\n",
        "    model = lgb.train(params, lg_train, 1000, valid_sets=[lg_test], early_stopping_rounds=50,verbose_eval=100)\n",
        "\n",
        "    return model"
      ],
      "metadata": {
        "id": "EzM8Det-a5gN"
      },
      "execution_count": null,
      "outputs": []
    },
    {
      "cell_type": "code",
      "source": [
        "model = run_lgb(train_df, val_df)"
      ],
      "metadata": {
        "id": "R1ROUxA9euOO"
      },
      "execution_count": null,
      "outputs": []
    },
    {
      "cell_type": "markdown",
      "source": [
        "### Feature importance"
      ],
      "metadata": {
        "id": "KcJAmnVWe0et"
      }
    },
    {
      "cell_type": "code",
      "source": [
        ""
      ],
      "metadata": {
        "id": "XHQ_6heLezB5"
      },
      "execution_count": null,
      "outputs": []
    }
  ]
}