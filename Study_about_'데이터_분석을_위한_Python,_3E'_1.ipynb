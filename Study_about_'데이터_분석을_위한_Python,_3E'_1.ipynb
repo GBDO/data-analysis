{
  "nbformat": 4,
  "nbformat_minor": 0,
  "metadata": {
    "colab": {
      "name": "Study about '데이터 분석을 위한 Python, 3E'_1.ipynb",
      "provenance": [],
      "collapsed_sections": []
    },
    "kernelspec": {
      "name": "python3",
      "display_name": "Python 3"
    },
    "language_info": {
      "name": "python"
    }
  },
  "cells": [
    {
      "cell_type": "markdown",
      "source": [
        "출처 : \n",
        "+ https://wesmckinney.com/book/\n",
        "+ https://webnautes.tistory.com/1499"
      ],
      "metadata": {
        "id": "wWcrGifzldSz"
      }
    },
    {
      "cell_type": "markdown",
      "source": [
        "책에서 말하는 필수 라이브러리로 아래의 것이 있다.\n",
        "\n",
        "모두 한번씩은 실행해본 경헝이 있는 라이브러리들이다.\n",
        "\n",
        "특히 numpy, pandas, matplotlib은 모든 수업에 도입에서 다루는 부분이고 ipython은 코랩을 자주 이용하는 덕분에 친숙하다. \n",
        "\n",
        "scikit-learn 경우는 model_selection의 train_test_split을 inport 할 때가 많아 기억에 남는다.\n",
        "\n",
        "- numpy # 수치 데이터를 과학 응용 프로그램에 사용할 수 있도록 데이터 구조, 수학연산, 데이터 리더 등 \n",
        "- pandas # 데이터 사용에 도움을 주는 데이터 구조와 기능 \n",
        "- matplotlib # 데이터 시각화  \n",
        "- ipyton # 대화형 인터프리터 \n",
        "- scipy # 수학, 과학 툴 \n",
        "- scikit-learn # 기계 학습 도구\n",
        "- statsmodels # 통계 분석 모델\n",
        "- tensorflow # 기계 학습 도구\n",
        "- pytoch # 기계 학습 도구\n",
        " "
      ],
      "metadata": {
        "id": "iotc7IOBnpx_"
      }
    },
    {
      "cell_type": "markdown",
      "source": [
        "# miniconda 설치(ubuntu)\n",
        "\\# 아래 사이트에서 원하는 버전의 파이썬 아래에 있는 Miniconda3 Linux 64-bit 파일을 받는다.\n",
        "\n",
        "-> https://docs.conda.io/en/latest/miniconda.html\n",
        "\n",
        "\\# terminal에서 아래코드 실행\n",
        "\n",
        "    cd ~/Downloads\n",
        "\n",
        "    bash Miniconda3-(version)-Linuix-x86_64.sh\n",
        "\n",
        "Enter키를 누르고 지시에 따라 yes를 두번 입력하면 설치가 완료된다.\n",
        "\n"
      ],
      "metadata": {
        "id": "o7xLSTgT9PtZ"
      }
    },
    {
      "cell_type": "markdown",
      "source": [
        "## terminal에 conda를 썻을 때 정상적으로 실행이 안되는 경우\n",
        "\n",
        "\\# terminal에서 아래 코드 실행\n",
        "\n",
        "    $ nano ~/.bashrc\n",
        "\n",
        "\\# 파일 제일 하단에 아래 코드 입력\n",
        "\n",
        "    export PATH=/home/(username)/miniconda3/bin:$PATH\n",
        "\n",
        "ctrl + 'X'를 눌러 종료한다.\n",
        "\n",
        "\\# 환경변수가 반영되도록 아래 코드 실행\n",
        "\n",
        "    $ source ~/.bashrc\n"
      ],
      "metadata": {
        "id": "s4VsSWbz-nG8"
      }
    },
    {
      "cell_type": "markdown",
      "source": [
        "# 필수 패키지 설치 1\n",
        "\\# 아래코드 실행\n",
        "\n",
        "    (base) $ conda config --add channels conda-forge\n",
        "    (base) $ conda config --set channel_priority strict\n",
        "\n",
        "# 가상환경 생성\n",
        "\\# 원활한 실습 진행을 위해 python 3.8 버전의 가상환경 생성\n",
        "\n",
        "    (base) $ conda create -n (원하는 이름) python=3.8\n",
        "\n",
        "# 가상환경 활성화\n",
        "\n",
        "    (base) $ conda activate (원하는 이름)\n",
        "    (원하는 이름) $\n",
        "\n",
        "# 필수 패키지 설치 2\n",
        "\n",
        "    (원하는 이름) $ conda install -y pandas jupyter matplotlib\n",
        "\n",
        "### \\+ 패키지 업데이트가 필요할 경우\n",
        "\n",
        "\n",
        "    conda update package_name\n",
        "\n",
        "or\n",
        "\n",
        "    pip install --upgrade package_name\n",
        "\n",
        "\n",
        "주의: 패키지 업데이트시 conda를 우선해서 사용하고 conda로 패키지 업데이트가 실행되지 않을 때 pip를 이용해 업데이트 해야한다. 그렇지않으면 환경에 문제가 발생할 수 있다.    "
      ],
      "metadata": {
        "id": "2rlVmoWnBMk9"
      }
    },
    {
      "cell_type": "markdown",
      "source": [
        ""
      ],
      "metadata": {
        "id": "itlOfy49EsTR"
      }
    },
    {
      "cell_type": "code",
      "execution_count": null,
      "metadata": {
        "id": "PTLhsJeVlQT_"
      },
      "outputs": [],
      "source": [
        ""
      ]
    }
  ]
}