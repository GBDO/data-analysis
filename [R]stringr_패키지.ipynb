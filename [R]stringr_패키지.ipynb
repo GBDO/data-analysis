{
  "nbformat": 4,
  "nbformat_minor": 0,
  "metadata": {
    "colab": {
      "name": "[R]stringr 패키지.ipynb",
      "provenance": []
    },
    "kernelspec": {
      "name": "python3",
      "display_name": "Python 3"
    },
    "language_info": {
      "name": "python"
    }
  },
  "cells": [
    {
      "cell_type": "markdown",
      "source": [
        "# Stringr 패키지 설치 및 실행\n",
        "\n",
        "    string <- c(\"data analysis is useful\",\n",
        "            \"business analytics is helpful\",\n",
        "            'visualization of data is interestiong for data scientidyd')\n",
        "\n",
        "    install.packages('stringr')\n",
        "    library(stringr)\n",
        "\n",
        "# str_detect()\n",
        "grepl() 함수와 같이 입력한 pattern 파라미터와 동일한 문자열을 가진 문자열 벡터는 TRUE, 그렇지 않은 경우 FALSE를 출력하는 함수\n",
        "\n",
        "    str_detect(string = string, pattern = 'data')\n",
        "    # [1]  TRUE FALSE  TRUE\n",
        "   \n",
        "    str_detect(string, 'DATA') # 대소문자 구분\n",
        "    # [1] FALSE FALSE FALSE\n",
        "\n",
        "    # 대소문자 구분없이 확인\n",
        "    str_detect(string, fixed(\"DATA\", ignore_case = TRUE))\n",
        "    # [1]  TRUE FALSE  TRUE\n",
        "\n",
        "    # fixed 활용, '.'을 메타문자가 아닌 문자로 취급하여 함수 진행 \n",
        "    str_detect(c('aby','acy','a.y'), 'a.y')\n",
        "    # [1] TRUE TRUE TRUE\n",
        "    str_detect(c('aby','acy','a.y'), fixed('a.y'))\n",
        "    # [1] FALSE FALSE  TRUE\n",
        "\n",
        "    # 이스케이프 문자를 써도 동일한 결과 출력\n",
        "    str_detect(c('aby','acy','a.y'),'a\\\\.y')\n",
        "    # [1] FALSE FALSE  TRUE\n",
        "\n",
        "    # negate 파라미터에 TRUE를 입력하면 pattern이 포함되지 않은 문자열을 TRUE로 출력(파라미터 default 값 : FALSE)\n",
        "    str_detect(string = string, pattern = 'data', negate = TRUE) \n",
        "    # [1] FALSE  TRUE FALSE\n",
        "\n",
        "# str_locate()\n",
        "string 파라미터에 입력받은 문자열 백터에 pattern 파라미터에 입력받은 문자열이 있을 경우 각 문자열 벡터당 1개씩 그 문자열의 시작위치와 끝나는 위치의 인덱스를 행렬로 출력하는 함수\n",
        "\n"
      ],
      "metadata": {
        "id": "vxkkNaqGfFQB"
      }
    }
  ]
}