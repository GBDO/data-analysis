{
  "nbformat": 4,
  "nbformat_minor": 0,
  "metadata": {
    "colab": {
      "name": "Study_on_모형_최적화.ipynb",
      "provenance": []
    },
    "kernelspec": {
      "name": "python3",
      "display_name": "Python 3"
    },
    "language_info": {
      "name": "python"
    }
  },
  "cells": [
    {
      "cell_type": "markdown",
      "source": [
        "출처 : https://datascienceschool.net/03%20machine%20learning/14.01%20%EB%AA%A8%ED%98%95%20%EC%B5%9C%EC%A0%81%ED%99%94.html"
      ],
      "metadata": {
        "id": "6PBulqwyUy02"
      }
    },
    {
      "cell_type": "markdown",
      "source": [
        "# validation_curve()\n",
        "\n",
        "단일 하이퍼 파라미터 최적화, 파라미터를 입력 받아 파라미터 범위의 모든 경우에 대해 성능 기준을 계산\n",
        "\n"
      ],
      "metadata": {
        "id": "x75RTV9TU2qv"
      }
    },
    {
      "cell_type": "code",
      "execution_count": null,
      "metadata": {
        "id": "Fhv_Ck01Uski"
      },
      "outputs": [],
      "source": [
        ""
      ]
    }
  ]
}