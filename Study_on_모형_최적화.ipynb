{
  "nbformat": 4,
  "nbformat_minor": 0,
  "metadata": {
    "colab": {
      "name": "Study_on_모형_최적화.ipynb",
      "provenance": []
    },
    "kernelspec": {
      "name": "python3",
      "display_name": "Python 3"
    },
    "language_info": {
      "name": "python"
    }
  },
  "cells": [
    {
      "cell_type": "markdown",
      "source": [
        "출처 : https://datascienceschool.net/03%20machine%20learning/14.01%20%EB%AA%A8%ED%98%95%20%EC%B5%9C%EC%A0%81%ED%99%94.html"
      ],
      "metadata": {
        "id": "6PBulqwyUy02"
      }
    },
    {
      "cell_type": "markdown",
      "source": [
        "# validation_curve()\n",
        "\n",
        "단일 하이퍼 파라미터 최적화, 파라미터를 입력 받아 파라미터 범위의 모든 경우에 대해 성능 기준을 계산\n",
        "\n",
        "# 파라미터\n",
        "\n",
        "estimator : 학습, 예측 방법 객체 입력\n",
        "\n",
        "X : 학습에 사용될 데이터\n",
        "\n",
        "y : 목표 데이터\n",
        "\n",
        "param_name : \n",
        "\n",
        "param_range :\n",
        "\n",
        "groups :\n",
        "\n",
        "cv :"
      ],
      "metadata": {
        "id": "x75RTV9TU2qv"
      }
    },
    {
      "cell_type": "code",
      "execution_count": null,
      "metadata": {
        "id": "Fhv_Ck01Uski"
      },
      "outputs": [],
      "source": [
        "from sklearn.datasets import load_digits\n",
        "from sklearn.svm import SVC\n",
        "from sklearn.model_selection import validation_curve\n",
        "\n",
        "digits = load_digits()\n",
        "X, y = digits.data, digits.target\n",
        "\n",
        "param_range = np.logspace(-6, -1, 10) # 하한 -6, 상한 -1의 범위의 수 10개를 할당"
      ]
    }
  ]
}