{
  "nbformat": 4,
  "nbformat_minor": 0,
  "metadata": {
    "colab": {
      "name": "Study_on_모형_최적화.ipynb",
      "provenance": []
    },
    "kernelspec": {
      "name": "python3",
      "display_name": "Python 3"
    },
    "language_info": {
      "name": "python"
    }
  },
  "cells": [
    {
      "cell_type": "markdown",
      "source": [
        "출처 : https://datascienceschool.net/03%20machine%20learning/14.01%20%EB%AA%A8%ED%98%95%20%EC%B5%9C%EC%A0%81%ED%99%94.html"
      ],
      "metadata": {
        "id": "6PBulqwyUy02"
      }
    },
    {
      "cell_type": "markdown",
      "source": [
        "# validation_curve()\n",
        "\n",
        "단일 하이퍼 파라미터 최적화, 파라미터를 입력 받아 파라미터 범위의 모든 경우에 대해 성능 기준을 계산\n",
        "\n",
        "# 파라미터\n",
        "\n",
        "estimator : 학습, 예측 방법 객체 입력\n",
        "\n",
        "X : 학습에 사용될 데이터\n",
        "\n",
        "y : 목표 데이터\n",
        "\n",
        "param_name : 최적화할 파라미터 이름\n",
        "\n",
        "param_range : 파라미터 범위\n",
        "\n",
        "groups : train / test 데이터 분할 방법\n",
        "\n",
        "cv : 교차 검증 분할 수 결정\n",
        "\n",
        "scoring : 예측 성능 평가 방법, 보통 accuracy 로 지정하여서 정확도로 성능 평가\n",
        " \n",
        "n_jobs : 병렬로 실행할 작업 수\n",
        "\n",
        "pre_dispatch : 병렬 실행을 위해 사전 디스패치된 작업 수\n",
        "\n",
        "verbose : 자세한 정도를 조정(기본값 : 0)\n",
        "\n",
        "fit_params : 예측 모델 학습 방법\n",
        "\n",
        "error_score : 오차 점수"
      ],
      "metadata": {
        "id": "x75RTV9TU2qv"
      }
    },
    {
      "cell_type": "code",
      "execution_count": 7,
      "metadata": {
        "id": "Fhv_Ck01Uski"
      },
      "outputs": [],
      "source": [
        "import numpy as np\n",
        "import matplotlib.pyplot as plt\n",
        "from sklearn.datasets import load_digits\n",
        "from sklearn.svm import SVC\n",
        "from sklearn.model_selection import validation_curve\n",
        "\n",
        "digits = load_digits() # 데이터 호출\n",
        "X, y = digits.data, digits.target # 데이터 할당\n",
        "\n",
        "param_range = np.logspace(-6, -1, 10) # 하한 -6, 상한 -1의 범위의 로그 수 10개를 할당"
      ]
    },
    {
      "cell_type": "code",
      "source": [
        "%%time\n",
        "train_scores, test_scores = \\\n",
        "    validation_curve(SVC(), X, y,\n",
        "                     param_name=\"gamma\", param_range=param_range,\n",
        "                     cv=10, scoring=\"accuracy\", n_jobs=1)"
      ],
      "metadata": {
        "colab": {
          "base_uri": "https://localhost:8080/"
        },
        "id": "sWkgQWlZf6PS",
        "outputId": "23f42019-2263-4f93-c324-253b27c67a78"
      },
      "execution_count": 8,
      "outputs": [
        {
          "output_type": "stream",
          "name": "stdout",
          "text": [
            "CPU times: user 52.7 s, sys: 54.1 ms, total: 52.7 s\n",
            "Wall time: 54.3 s\n"
          ]
        }
      ]
    },
    {
      "cell_type": "code",
      "source": [
        "train_scores_mean = np.mean(train_scores, axis=1)\n",
        "train_scores_std = np.std(train_scores, axis=1)\n",
        "test_scores_mean = np.mean(test_scores, axis=1)\n",
        "test_scores_std = np.std(test_scores, axis=1)\n",
        "\n",
        "plt.semilogx(param_range, train_scores_mean, label=\"Training score\", color=\"r\") # train 데이터 평가 점수 평균 그래프\n",
        "plt.fill_between(param_range, train_scores_mean - train_scores_std,\n",
        "                 train_scores_mean + train_scores_std, alpha=0.2, color=\"r\") # train 데이터 평가 점수의 표준편차 범위 그래프\n",
        "plt.semilogx(param_range, test_scores_mean,\n",
        "             label=\"Cross-validation score\", color=\"g\") # test 데이터 평가 점수 평균 그래프\n",
        "plt.fill_between(param_range, test_scores_mean - test_scores_std,\n",
        "                 test_scores_mean + test_scores_std, alpha=0.2, color=\"g\") # test 데이터 평가 점수의 표준편차 범위 그래프\n",
        "plt.legend(loc=\"best\") # 범례 표시\n",
        "plt.title(\"Validation Curve with SVM\")\n",
        "plt.xlabel(\"$\\gamma$\")\n",
        "plt.ylabel(\"Score\")\n",
        "plt.ylim(0.0, 1.1)\n",
        "plt.show()"
      ],
      "metadata": {
        "colab": {
          "base_uri": "https://localhost:8080/",
          "height": 301
        },
        "id": "CVNhsAlmf80Z",
        "outputId": "80a3ea8d-c6df-4c24-8a48-82a7ad288422"
      },
      "execution_count": 11,
      "outputs": [
        {
          "output_type": "display_data",
          "data": {
            "text/plain": [
              "<Figure size 432x288 with 1 Axes>"
            ],
            "image/png": "[encoded data removed]"
          },
          "metadata": {
            "needs_background": "light"
          }
        }
      ]
    },
    {
      "cell_type": "markdown",
      "source": [
        "# GridSearchCV\n",
        "분류 알고리즘이나 회귀 알고리즘에 사용되는 하이퍼파라미터를 순차적으로 입력해 학습을 하고 측정 값들을 비교하여 가장 적절한 파라미터를 찾음\n",
        "\n",
        "estimator : classifier, regressor, pipeline 등 가능\n",
        "\n",
        "param_grid : 튜닝에 사용될 파라미터를 dictionary 형태로 입력\n",
        "\n",
        "scoring : 예측 성능 평가 방법, 보통 accuracy 로 지정하여서 정확도로 성능 평가\n",
        "\n",
        "cv : 교차 검증 분할 수 결정\n",
        "\n",
        "refit : True가 디폴트로 True 입력 시 최적의 하이퍼 파라미터를 찾아서 재학습\n",
        "\n",
        "### 결과\n",
        "grid_scores_ : param_grid 의 모든 파리미터 조합에 대한 성능 결과. 각각의 원소는 다음 요소로 이루어진 튜플이다.\n",
        "\n",
        "parameters : 사용된 파라미터\n",
        "\n",
        "mean_validation_score : 교차 검증(cross-validation) 결과의 평균값\n",
        "\n",
        "cv_validation_scores : 모든 교차 검증(cross-validation) 결과\n",
        "\n",
        "best_score_ : 최고 점수 \n",
        "\n",
        "best_params_ : 최고 점수를 낸 파라미터\n",
        "\n",
        "best_estimator_ : 최고 점수를 낸 파라미터를 가진 모형"
      ],
      "metadata": {
        "id": "jI659AGzmmKF"
      }
    },
    {
      "cell_type": "code",
      "source": [
        "from sklearn.model_selection import GridSearchCV\n",
        "from sklearn.pipeline import Pipeline\n",
        "from sklearn.preprocessing import StandardScaler\n",
        "from sklearn.svm import SVC\n",
        "\n",
        "pipe_svc = Pipeline([('scl', StandardScaler()), ('clf', SVC(random_state=1))])\n",
        "\n",
        "param_range = [0.0001, 0.001, 0.01, 0.1, 1.0, 10.0, 100.0, 1000.0]\n",
        "param_grid = [\n",
        "    {'clf__C': param_range, 'clf__kernel': ['linear']},\n",
        "    {'clf__C': param_range, 'clf__gamma': param_range, 'clf__kernel': ['rbf']}]\n",
        "\n",
        "gs = GridSearchCV(estimator=pipe_svc, param_grid=param_grid,\n",
        "                  scoring='accuracy', cv=10, n_jobs=1)\n",
        "%time gs = gs.fit(X, y)"
      ],
      "metadata": {
        "colab": {
          "base_uri": "https://localhost:8080/"
        },
        "id": "8lNVPZXUi_t2",
        "outputId": "7727536f-f39e-4a16-f7d2-aa6fcf432420"
      },
      "execution_count": 12,
      "outputs": [
        {
          "output_type": "stream",
          "name": "stdout",
          "text": [
            "CPU times: user 3min 27s, sys: 287 ms, total: 3min 28s\n",
            "Wall time: 3min 27s\n"
          ]
        }
      ]
    },
    {
      "cell_type": "code",
      "source": [
        "gs.cv_results_[\"params\"]"
      ],
      "metadata": {
        "colab": {
          "base_uri": "https://localhost:8080/"
        },
        "id": "WkskRQyQuGqz",
        "outputId": "f47ec632-b64f-4d83-9b52-d1d6150a5fef"
      },
      "execution_count": 13,
      "outputs": [
        {
          "output_type": "execute_result",
          "data": {
            "text/plain": [
              "[{'clf__C': 0.0001, 'clf__kernel': 'linear'},\n",
              " {'clf__C': 0.001, 'clf__kernel': 'linear'},\n",
              " {'clf__C': 0.01, 'clf__kernel': 'linear'},\n",
              " {'clf__C': 0.1, 'clf__kernel': 'linear'},\n",
              " {'clf__C': 1.0, 'clf__kernel': 'linear'},\n",
              " {'clf__C': 10.0, 'clf__kernel': 'linear'},\n",
              " {'clf__C': 100.0, 'clf__kernel': 'linear'},\n",
              " {'clf__C': 1000.0, 'clf__kernel': 'linear'},\n",
              " {'clf__C': 0.0001, 'clf__gamma': 0.0001, 'clf__kernel': 'rbf'},\n",
              " {'clf__C': 0.0001, 'clf__gamma': 0.001, 'clf__kernel': 'rbf'},\n",
              " {'clf__C': 0.0001, 'clf__gamma': 0.01, 'clf__kernel': 'rbf'},\n",
              " {'clf__C': 0.0001, 'clf__gamma': 0.1, 'clf__kernel': 'rbf'},\n",
              " {'clf__C': 0.0001, 'clf__gamma': 1.0, 'clf__kernel': 'rbf'},\n",
              " {'clf__C': 0.0001, 'clf__gamma': 10.0, 'clf__kernel': 'rbf'},\n",
              " {'clf__C': 0.0001, 'clf__gamma': 100.0, 'clf__kernel': 'rbf'},\n",
              " {'clf__C': 0.0001, 'clf__gamma': 1000.0, 'clf__kernel': 'rbf'},\n",
              " {'clf__C': 0.001, 'clf__gamma': 0.0001, 'clf__kernel': 'rbf'},\n",
              " {'clf__C': 0.001, 'clf__gamma': 0.001, 'clf__kernel': 'rbf'},\n",
              " {'clf__C': 0.001, 'clf__gamma': 0.01, 'clf__kernel': 'rbf'},\n",
              " {'clf__C': 0.001, 'clf__gamma': 0.1, 'clf__kernel': 'rbf'},\n",
              " {'clf__C': 0.001, 'clf__gamma': 1.0, 'clf__kernel': 'rbf'},\n",
              " {'clf__C': 0.001, 'clf__gamma': 10.0, 'clf__kernel': 'rbf'},\n",
              " {'clf__C': 0.001, 'clf__gamma': 100.0, 'clf__kernel': 'rbf'},\n",
              " {'clf__C': 0.001, 'clf__gamma': 1000.0, 'clf__kernel': 'rbf'},\n",
              " {'clf__C': 0.01, 'clf__gamma': 0.0001, 'clf__kernel': 'rbf'},\n",
              " {'clf__C': 0.01, 'clf__gamma': 0.001, 'clf__kernel': 'rbf'},\n",
              " {'clf__C': 0.01, 'clf__gamma': 0.01, 'clf__kernel': 'rbf'},\n",
              " {'clf__C': 0.01, 'clf__gamma': 0.1, 'clf__kernel': 'rbf'},\n",
              " {'clf__C': 0.01, 'clf__gamma': 1.0, 'clf__kernel': 'rbf'},\n",
              " {'clf__C': 0.01, 'clf__gamma': 10.0, 'clf__kernel': 'rbf'},\n",
              " {'clf__C': 0.01, 'clf__gamma': 100.0, 'clf__kernel': 'rbf'},\n",
              " {'clf__C': 0.01, 'clf__gamma': 1000.0, 'clf__kernel': 'rbf'},\n",
              " {'clf__C': 0.1, 'clf__gamma': 0.0001, 'clf__kernel': 'rbf'},\n",
              " {'clf__C': 0.1, 'clf__gamma': 0.001, 'clf__kernel': 'rbf'},\n",
              " {'clf__C': 0.1, 'clf__gamma': 0.01, 'clf__kernel': 'rbf'},\n",
              " {'clf__C': 0.1, 'clf__gamma': 0.1, 'clf__kernel': 'rbf'},\n",
              " {'clf__C': 0.1, 'clf__gamma': 1.0, 'clf__kernel': 'rbf'},\n",
              " {'clf__C': 0.1, 'clf__gamma': 10.0, 'clf__kernel': 'rbf'},\n",
              " {'clf__C': 0.1, 'clf__gamma': 100.0, 'clf__kernel': 'rbf'},\n",
              " {'clf__C': 0.1, 'clf__gamma': 1000.0, 'clf__kernel': 'rbf'},\n",
              " {'clf__C': 1.0, 'clf__gamma': 0.0001, 'clf__kernel': 'rbf'},\n",
              " {'clf__C': 1.0, 'clf__gamma': 0.001, 'clf__kernel': 'rbf'},\n",
              " {'clf__C': 1.0, 'clf__gamma': 0.01, 'clf__kernel': 'rbf'},\n",
              " {'clf__C': 1.0, 'clf__gamma': 0.1, 'clf__kernel': 'rbf'},\n",
              " {'clf__C': 1.0, 'clf__gamma': 1.0, 'clf__kernel': 'rbf'},\n",
              " {'clf__C': 1.0, 'clf__gamma': 10.0, 'clf__kernel': 'rbf'},\n",
              " {'clf__C': 1.0, 'clf__gamma': 100.0, 'clf__kernel': 'rbf'},\n",
              " {'clf__C': 1.0, 'clf__gamma': 1000.0, 'clf__kernel': 'rbf'},\n",
              " {'clf__C': 10.0, 'clf__gamma': 0.0001, 'clf__kernel': 'rbf'},\n",
              " {'clf__C': 10.0, 'clf__gamma': 0.001, 'clf__kernel': 'rbf'},\n",
              " {'clf__C': 10.0, 'clf__gamma': 0.01, 'clf__kernel': 'rbf'},\n",
              " {'clf__C': 10.0, 'clf__gamma': 0.1, 'clf__kernel': 'rbf'},\n",
              " {'clf__C': 10.0, 'clf__gamma': 1.0, 'clf__kernel': 'rbf'},\n",
              " {'clf__C': 10.0, 'clf__gamma': 10.0, 'clf__kernel': 'rbf'},\n",
              " {'clf__C': 10.0, 'clf__gamma': 100.0, 'clf__kernel': 'rbf'},\n",
              " {'clf__C': 10.0, 'clf__gamma': 1000.0, 'clf__kernel': 'rbf'},\n",
              " {'clf__C': 100.0, 'clf__gamma': 0.0001, 'clf__kernel': 'rbf'},\n",
              " {'clf__C': 100.0, 'clf__gamma': 0.001, 'clf__kernel': 'rbf'},\n",
              " {'clf__C': 100.0, 'clf__gamma': 0.01, 'clf__kernel': 'rbf'},\n",
              " {'clf__C': 100.0, 'clf__gamma': 0.1, 'clf__kernel': 'rbf'},\n",
              " {'clf__C': 100.0, 'clf__gamma': 1.0, 'clf__kernel': 'rbf'},\n",
              " {'clf__C': 100.0, 'clf__gamma': 10.0, 'clf__kernel': 'rbf'},\n",
              " {'clf__C': 100.0, 'clf__gamma': 100.0, 'clf__kernel': 'rbf'},\n",
              " {'clf__C': 100.0, 'clf__gamma': 1000.0, 'clf__kernel': 'rbf'},\n",
              " {'clf__C': 1000.0, 'clf__gamma': 0.0001, 'clf__kernel': 'rbf'},\n",
              " {'clf__C': 1000.0, 'clf__gamma': 0.001, 'clf__kernel': 'rbf'},\n",
              " {'clf__C': 1000.0, 'clf__gamma': 0.01, 'clf__kernel': 'rbf'},\n",
              " {'clf__C': 1000.0, 'clf__gamma': 0.1, 'clf__kernel': 'rbf'},\n",
              " {'clf__C': 1000.0, 'clf__gamma': 1.0, 'clf__kernel': 'rbf'},\n",
              " {'clf__C': 1000.0, 'clf__gamma': 10.0, 'clf__kernel': 'rbf'},\n",
              " {'clf__C': 1000.0, 'clf__gamma': 100.0, 'clf__kernel': 'rbf'},\n",
              " {'clf__C': 1000.0, 'clf__gamma': 1000.0, 'clf__kernel': 'rbf'}]"
            ]
          },
          "metadata": {},
          "execution_count": 13
        }
      ]
    },
    {
      "cell_type": "code",
      "source": [
        "gs.cv_results_[\"mean_test_score\"]"
      ],
      "metadata": {
        "colab": {
          "base_uri": "https://localhost:8080/"
        },
        "id": "XlF3v-EtuHFz",
        "outputId": "700c3e26-af78-4484-cbd1-666227bbbe94"
      },
      "execution_count": 14,
      "outputs": [
        {
          "output_type": "execute_result",
          "data": {
            "text/plain": [
              "array([0.23120112, 0.91485413, 0.95046245, 0.95547176, 0.95658908,\n",
              "       0.95658908, 0.95658908, 0.95658908, 0.13089385, 0.13536313,\n",
              "       0.13927374, 0.12418994, 0.1001676 , 0.13089385, 0.10687151,\n",
              "       0.1001676 , 0.13089385, 0.13536313, 0.13927374, 0.12418994,\n",
              "       0.1001676 , 0.13089385, 0.10687151, 0.1001676 , 0.13089385,\n",
              "       0.13536313, 0.14429857, 0.12418994, 0.1001676 , 0.13089385,\n",
              "       0.10687151, 0.1001676 , 0.13089385, 0.68335816, 0.90761639,\n",
              "       0.40958101, 0.1001676 , 0.13089385, 0.10687151, 0.1001676 ,\n",
              "       0.70449721, 0.93153011, 0.96047796, 0.90317505, 0.12469894,\n",
              "       0.1001676 , 0.10128492, 0.1001676 , 0.93264742, 0.95547176,\n",
              "       0.96937927, 0.90540348, 0.13416511, 0.1001676 , 0.10128492,\n",
              "       0.1001676 , 0.95547796, 0.96047796, 0.96937927, 0.90540348,\n",
              "       0.13416511, 0.1001676 , 0.10128492, 0.1001676 , 0.95825885,\n",
              "       0.95935754, 0.96937927, 0.90540348, 0.13416511, 0.1001676 ,\n",
              "       0.10128492, 0.1001676 ])"
            ]
          },
          "metadata": {},
          "execution_count": 14
        }
      ]
    },
    {
      "cell_type": "code",
      "source": [
        "print(gs.best_score_)\n",
        "print(gs.best_params_)"
      ],
      "metadata": {
        "colab": {
          "base_uri": "https://localhost:8080/"
        },
        "id": "n2EYLY_euIjv",
        "outputId": "74617a93-3a15-4970-9ff9-8b0fc0a58790"
      },
      "execution_count": 15,
      "outputs": [
        {
          "output_type": "stream",
          "name": "stdout",
          "text": [
            "0.969379267535692\n",
            "{'clf__C': 10.0, 'clf__gamma': 0.01, 'clf__kernel': 'rbf'}\n"
          ]
        }
      ]
    }
  ]
}