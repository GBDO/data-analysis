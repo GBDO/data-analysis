{
  "nbformat": 4,
  "nbformat_minor": 0,
  "metadata": {
    "colab": {
      "name": "EDA_Reducing Commercial Aviation Fatalities.ipynb",
      "provenance": [],
      "collapsed_sections": []
    },
    "kernelspec": {
      "name": "python3",
      "display_name": "Python 3"
    },
    "language_info": {
      "name": "python"
    }
  },
  "cells": [
    {
      "cell_type": "markdown",
      "source": [
        "출처: https://www.kaggle.com/code/theoviel/starter-code-eda-and-lgbm-baseline\n"
      ],
      "metadata": {
        "id": "_19K8xnbBzlC"
      }
    },
    {
      "cell_type": "markdown",
      "source": [
        "#패키지 불러오기"
      ],
      "metadata": {
        "id": "baSQwdh1_Wkf"
      }
    },
    {
      "cell_type": "code",
      "execution_count": 1,
      "metadata": {
        "id": "9kJsN5qd_UHZ"
      },
      "outputs": [],
      "source": [
        "%matplotlib inline  \n",
        "\n",
        "import warnings\n",
        "import itertools\n",
        "import numpy as np \n",
        "import pandas as pd\n",
        "import seaborn as sns\n",
        "import lightgbm as lgb\n",
        "import matplotlib.pyplot as plt\n",
        "from tqdm import tqdm_notebook as tqdm\n",
        "from sklearn.preprocessing import MinMaxScaler\n",
        "from sklearn.model_selection import train_test_split\n",
        "from sklearn.metrics import confusion_matrix, log_loss\n",
        "plt.rc('font', family='NanumBarunGothic') \n",
        "\n",
        "warnings.simplefilter(action='ignore')\n",
        "sns.set_style('whitegrid')"
      ]
    },
    {
      "cell_type": "markdown",
      "source": [
        "#각 열의 데이터 타입 사전 생성"
      ],
      "metadata": {
        "id": "ocdesdOh_fWv"
      }
    },
    {
      "cell_type": "code",
      "source": [
        "dtypes = {\"crew\": \"int8\",\n",
        "          \"experiment\": \"category\",\n",
        "          \"time\": \"float32\",\n",
        "          \"seat\": \"int8\",\n",
        "          \"eeg_fp1\": \"float32\",\n",
        "          \"eeg_f7\": \"float32\",\n",
        "          \"eeg_f8\": \"float32\",\n",
        "          \"eeg_t4\": \"float32\",\n",
        "          \"eeg_t6\": \"float32\",\n",
        "          \"eeg_t5\": \"float32\",\n",
        "          \"eeg_t3\": \"float32\",\n",
        "          \"eeg_fp2\": \"float32\",\n",
        "          \"eeg_o1\": \"float32\",\n",
        "          \"eeg_p3\": \"float32\",\n",
        "          \"eeg_pz\": \"float32\",\n",
        "          \"eeg_f3\": \"float32\",\n",
        "          \"eeg_fz\": \"float32\",\n",
        "          \"eeg_f4\": \"float32\",\n",
        "          \"eeg_c4\": \"float32\",\n",
        "          \"eeg_p4\": \"float32\",\n",
        "          \"eeg_poz\": \"float32\",\n",
        "          \"eeg_c3\": \"float32\",\n",
        "          \"eeg_cz\": \"float32\",\n",
        "          \"eeg_o2\": \"float32\",\n",
        "          \"ecg\": \"float32\",\n",
        "          \"r\": \"float32\",\n",
        "          \"gsr\": \"float32\",\n",
        "          \"event\": \"category\",\n",
        "         }"
      ],
      "metadata": {
        "id": "U8esTbOo_aQH"
      },
      "execution_count": 2,
      "outputs": []
    },
    {
      "cell_type": "markdown",
      "source": [
        "#데이터 불러오기"
      ],
      "metadata": {
        "id": "oebQ8KAxA9LZ"
      }
    },
    {
      "cell_type": "code",
      "source": [
        "train_df = pd.read_csv('/content/drive/MyDrive/Colab Notebooks/data_analysis/reducing-commercial-aviation-fatalities/train.csv',dtype = dtypes)\n",
        "test_df = pd.read_csv('/content/drive/MyDrive/Colab Notebooks/data_analysis/reducing-commercial-aviation-fatalities/test.csv',dtype = dtypes)"
      ],
      "metadata": {
        "id": "x1JZyMuR_mtI"
      },
      "execution_count": 3,
      "outputs": []
    },
    {
      "cell_type": "markdown",
      "source": [
        "#데이터 정보 확인"
      ],
      "metadata": {
        "id": "mnhZ9VrVBIG2"
      }
    },
    {
      "cell_type": "code",
      "source": [
        "train_df.info()"
      ],
      "metadata": {
        "colab": {
          "base_uri": "https://localhost:8080/"
        },
        "id": "5DEGnXGjBL0X",
        "outputId": "bf6b9274-bf45-45b6-a847-46ce76fd6b4c"
      },
      "execution_count": 4,
      "outputs": [
        {
          "output_type": "stream",
          "name": "stdout",
          "text": [
            "<class 'pandas.core.frame.DataFrame'>\n",
            "RangeIndex: 4867421 entries, 0 to 4867420\n",
            "Data columns (total 28 columns):\n",
            " #   Column      Dtype   \n",
            "---  ------      -----   \n",
            " 0   crew        int8    \n",
            " 1   experiment  category\n",
            " 2   time        float32 \n",
            " 3   seat        int8    \n",
            " 4   eeg_fp1     float32 \n",
            " 5   eeg_f7      float32 \n",
            " 6   eeg_f8      float32 \n",
            " 7   eeg_t4      float32 \n",
            " 8   eeg_t6      float32 \n",
            " 9   eeg_t5      float32 \n",
            " 10  eeg_t3      float32 \n",
            " 11  eeg_fp2     float32 \n",
            " 12  eeg_o1      float32 \n",
            " 13  eeg_p3      float32 \n",
            " 14  eeg_pz      float32 \n",
            " 15  eeg_f3      float32 \n",
            " 16  eeg_fz      float32 \n",
            " 17  eeg_f4      float32 \n",
            " 18  eeg_c4      float32 \n",
            " 19  eeg_p4      float32 \n",
            " 20  eeg_poz     float32 \n",
            " 21  eeg_c3      float32 \n",
            " 22  eeg_cz      float32 \n",
            " 23  eeg_o2      float32 \n",
            " 24  ecg         float32 \n",
            " 25  r           float32 \n",
            " 26  gsr         float32 \n",
            " 27  event       category\n",
            "dtypes: category(2), float32(24), int8(2)\n",
            "memory usage: 464.2 MB\n"
          ]
        }
      ]
    },
    {
      "cell_type": "markdown",
      "source": [
        "#데이터 확인"
      ],
      "metadata": {
        "id": "jGCtYGyhBTzS"
      }
    },
    {
      "cell_type": "code",
      "source": [
        "train_df.head()"
      ],
      "metadata": {
        "colab": {
          "base_uri": "https://localhost:8080/",
          "height": 300
        },
        "id": "EBMt2z_2BTWB",
        "outputId": "979f260c-0b90-4aac-f1b3-88d2941c299f"
      },
      "execution_count": 5,
      "outputs": [
        {
          "output_type": "execute_result",
          "data": {
            "text/plain": [
              "   crew experiment      time  seat   eeg_fp1     eeg_f7     eeg_f8     eeg_t4  \\\n",
              "0     1         CA  0.011719     1  -5.28545  26.775801  -9.527310 -12.793200   \n",
              "1     1         CA  0.015625     1  -2.42842  28.430901  -9.323510  -3.757230   \n",
              "2     1         CA  0.019531     1  10.67150  30.420200  15.350700  24.724001   \n",
              "3     1         CA  0.023438     1  11.45250  25.609800   2.433080  12.412500   \n",
              "4     1         CA  0.027344     1   7.28321  25.942600   0.113564   5.748000   \n",
              "\n",
              "      eeg_t6     eeg_t5  ...     eeg_c4     eeg_p4    eeg_poz   eeg_c3  \\\n",
              "0  16.717800  33.737499  ...  37.368999  17.437599  19.201900  20.5968   \n",
              "1  15.969300  30.443600  ...  31.170799  19.399700  19.689501  21.3547   \n",
              "2  16.143101  32.142799  ... -12.012600  19.396299  23.171700  22.4076   \n",
              "3  20.533300  31.494101  ...  18.574100  23.156401  22.641199  19.3367   \n",
              "4  19.833599  28.753599  ...   6.555440  22.754700  22.670300  20.2932   \n",
              "\n",
              "    eeg_cz     eeg_o2     ecg           r         gsr  event  \n",
              "0 -3.95115  14.507600 -4520.0  817.705994  388.829987      A  \n",
              "1  1.33212  17.750200 -4520.0  817.705994  388.829987      A  \n",
              "2  1.53786  22.247000 -4520.0  817.705994  388.829987      A  \n",
              "3  2.54492  18.998600 -4520.0  817.705994  388.829987      A  \n",
              "4  1.69962  22.812799 -4520.0  817.705994  388.829987      A  \n",
              "\n",
              "[5 rows x 28 columns]"
            ],
            "text/html": [
              "\n",
              "  <div id=\"df-142e08e1-a133-4983-b84b-dcc320996359\">\n",
              "    <div class=\"colab-df-container\">\n",
              "      <div>\n",
              "<style scoped>\n",
              "    .dataframe tbody tr th:only-of-type {\n",
              "        vertical-align: middle;\n",
              "    }\n",
              "\n",
              "    .dataframe tbody tr th {\n",
              "        vertical-align: top;\n",
              "    }\n",
              "\n",
              "    .dataframe thead th {\n",
              "        text-align: right;\n",
              "    }\n",
              "</style>\n",
              "<table border=\"1\" class=\"dataframe\">\n",
              "  <thead>\n",
              "    <tr style=\"text-align: right;\">\n",
              "      <th></th>\n",
              "      <th>crew</th>\n",
              "      <th>experiment</th>\n",
              "      <th>time</th>\n",
              "      <th>seat</th>\n",
              "      <th>eeg_fp1</th>\n",
              "      <th>eeg_f7</th>\n",
              "      <th>eeg_f8</th>\n",
              "      <th>eeg_t4</th>\n",
              "      <th>eeg_t6</th>\n",
              "      <th>eeg_t5</th>\n",
              "      <th>...</th>\n",
              "      <th>eeg_c4</th>\n",
              "      <th>eeg_p4</th>\n",
              "      <th>eeg_poz</th>\n",
              "      <th>eeg_c3</th>\n",
              "      <th>eeg_cz</th>\n",
              "      <th>eeg_o2</th>\n",
              "      <th>ecg</th>\n",
              "      <th>r</th>\n",
              "      <th>gsr</th>\n",
              "      <th>event</th>\n",
              "    </tr>\n",
              "  </thead>\n",
              "  <tbody>\n",
              "    <tr>\n",
              "      <th>0</th>\n",
              "      <td>1</td>\n",
              "      <td>CA</td>\n",
              "      <td>0.011719</td>\n",
              "      <td>1</td>\n",
              "      <td>-5.28545</td>\n",
              "      <td>26.775801</td>\n",
              "      <td>-9.527310</td>\n",
              "      <td>-12.793200</td>\n",
              "      <td>16.717800</td>\n",
              "      <td>33.737499</td>\n",
              "      <td>...</td>\n",
              "      <td>37.368999</td>\n",
              "      <td>17.437599</td>\n",
              "      <td>19.201900</td>\n",
              "      <td>20.5968</td>\n",
              "      <td>-3.95115</td>\n",
              "      <td>14.507600</td>\n",
              "      <td>-4520.0</td>\n",
              "      <td>817.705994</td>\n",
              "      <td>388.829987</td>\n",
              "      <td>A</td>\n",
              "    </tr>\n",
              "    <tr>\n",
              "      <th>1</th>\n",
              "      <td>1</td>\n",
              "      <td>CA</td>\n",
              "      <td>0.015625</td>\n",
              "      <td>1</td>\n",
              "      <td>-2.42842</td>\n",
              "      <td>28.430901</td>\n",
              "      <td>-9.323510</td>\n",
              "      <td>-3.757230</td>\n",
              "      <td>15.969300</td>\n",
              "      <td>30.443600</td>\n",
              "      <td>...</td>\n",
              "      <td>31.170799</td>\n",
              "      <td>19.399700</td>\n",
              "      <td>19.689501</td>\n",
              "      <td>21.3547</td>\n",
              "      <td>1.33212</td>\n",
              "      <td>17.750200</td>\n",
              "      <td>-4520.0</td>\n",
              "      <td>817.705994</td>\n",
              "      <td>388.829987</td>\n",
              "      <td>A</td>\n",
              "    </tr>\n",
              "    <tr>\n",
              "      <th>2</th>\n",
              "      <td>1</td>\n",
              "      <td>CA</td>\n",
              "      <td>0.019531</td>\n",
              "      <td>1</td>\n",
              "      <td>10.67150</td>\n",
              "      <td>30.420200</td>\n",
              "      <td>15.350700</td>\n",
              "      <td>24.724001</td>\n",
              "      <td>16.143101</td>\n",
              "      <td>32.142799</td>\n",
              "      <td>...</td>\n",
              "      <td>-12.012600</td>\n",
              "      <td>19.396299</td>\n",
              "      <td>23.171700</td>\n",
              "      <td>22.4076</td>\n",
              "      <td>1.53786</td>\n",
              "      <td>22.247000</td>\n",
              "      <td>-4520.0</td>\n",
              "      <td>817.705994</td>\n",
              "      <td>388.829987</td>\n",
              "      <td>A</td>\n",
              "    </tr>\n",
              "    <tr>\n",
              "      <th>3</th>\n",
              "      <td>1</td>\n",
              "      <td>CA</td>\n",
              "      <td>0.023438</td>\n",
              "      <td>1</td>\n",
              "      <td>11.45250</td>\n",
              "      <td>25.609800</td>\n",
              "      <td>2.433080</td>\n",
              "      <td>12.412500</td>\n",
              "      <td>20.533300</td>\n",
              "      <td>31.494101</td>\n",
              "      <td>...</td>\n",
              "      <td>18.574100</td>\n",
              "      <td>23.156401</td>\n",
              "      <td>22.641199</td>\n",
              "      <td>19.3367</td>\n",
              "      <td>2.54492</td>\n",
              "      <td>18.998600</td>\n",
              "      <td>-4520.0</td>\n",
              "      <td>817.705994</td>\n",
              "      <td>388.829987</td>\n",
              "      <td>A</td>\n",
              "    </tr>\n",
              "    <tr>\n",
              "      <th>4</th>\n",
              "      <td>1</td>\n",
              "      <td>CA</td>\n",
              "      <td>0.027344</td>\n",
              "      <td>1</td>\n",
              "      <td>7.28321</td>\n",
              "      <td>25.942600</td>\n",
              "      <td>0.113564</td>\n",
              "      <td>5.748000</td>\n",
              "      <td>19.833599</td>\n",
              "      <td>28.753599</td>\n",
              "      <td>...</td>\n",
              "      <td>6.555440</td>\n",
              "      <td>22.754700</td>\n",
              "      <td>22.670300</td>\n",
              "      <td>20.2932</td>\n",
              "      <td>1.69962</td>\n",
              "      <td>22.812799</td>\n",
              "      <td>-4520.0</td>\n",
              "      <td>817.705994</td>\n",
              "      <td>388.829987</td>\n",
              "      <td>A</td>\n",
              "    </tr>\n",
              "  </tbody>\n",
              "</table>\n",
              "<p>5 rows × 28 columns</p>\n",
              "</div>\n",
              "      <button class=\"colab-df-convert\" onclick=\"convertToInteractive('df-142e08e1-a133-4983-b84b-dcc320996359')\"\n",
              "              title=\"Convert this dataframe to an interactive table.\"\n",
              "              style=\"display:none;\">\n",
              "        \n",
              "  <svg xmlns=\"http://www.w3.org/2000/svg\" height=\"24px\"viewBox=\"0 0 24 24\"\n",
              "       width=\"24px\">\n",
              "    <path d=\"M0 0h24v24H0V0z\" fill=\"none\"/>\n",
              "    <path d=\"M18.56 5.44l.94 2.06.94-2.06 2.06-.94-2.06-.94-.94-2.06-.94 2.06-2.06.94zm-11 1L8.5 8.5l.94-2.06 2.06-.94-2.06-.94L8.5 2.5l-.94 2.06-2.06.94zm10 10l.94 2.06.94-2.06 2.06-.94-2.06-.94-.94-2.06-.94 2.06-2.06.94z\"/><path d=\"M17.41 7.96l-1.37-1.37c-.4-.4-.92-.59-1.43-.59-.52 0-1.04.2-1.43.59L10.3 9.45l-7.72 7.72c-.78.78-.78 2.05 0 2.83L4 21.41c.39.39.9.59 1.41.59.51 0 1.02-.2 1.41-.59l7.78-7.78 2.81-2.81c.8-.78.8-2.07 0-2.86zM5.41 20L4 18.59l7.72-7.72 1.47 1.35L5.41 20z\"/>\n",
              "  </svg>\n",
              "      </button>\n",
              "      \n",
              "  <style>\n",
              "    .colab-df-container {\n",
              "      display:flex;\n",
              "      flex-wrap:wrap;\n",
              "      gap: 12px;\n",
              "    }\n",
              "\n",
              "    .colab-df-convert {\n",
              "      background-color: #E8F0FE;\n",
              "      border: none;\n",
              "      border-radius: 50%;\n",
              "      cursor: pointer;\n",
              "      display: none;\n",
              "      fill: #1967D2;\n",
              "      height: 32px;\n",
              "      padding: 0 0 0 0;\n",
              "      width: 32px;\n",
              "    }\n",
              "\n",
              "    .colab-df-convert:hover {\n",
              "      background-color: #E2EBFA;\n",
              "      box-shadow: 0px 1px 2px rgba(60, 64, 67, 0.3), 0px 1px 3px 1px rgba(60, 64, 67, 0.15);\n",
              "      fill: #174EA6;\n",
              "    }\n",
              "\n",
              "    [theme=dark] .colab-df-convert {\n",
              "      background-color: #3B4455;\n",
              "      fill: #D2E3FC;\n",
              "    }\n",
              "\n",
              "    [theme=dark] .colab-df-convert:hover {\n",
              "      background-color: #434B5C;\n",
              "      box-shadow: 0px 1px 3px 1px rgba(0, 0, 0, 0.15);\n",
              "      filter: drop-shadow(0px 1px 2px rgba(0, 0, 0, 0.3));\n",
              "      fill: #FFFFFF;\n",
              "    }\n",
              "  </style>\n",
              "\n",
              "      <script>\n",
              "        const buttonEl =\n",
              "          document.querySelector('#df-142e08e1-a133-4983-b84b-dcc320996359 button.colab-df-convert');\n",
              "        buttonEl.style.display =\n",
              "          google.colab.kernel.accessAllowed ? 'block' : 'none';\n",
              "\n",
              "        async function convertToInteractive(key) {\n",
              "          const element = document.querySelector('#df-142e08e1-a133-4983-b84b-dcc320996359');\n",
              "          const dataTable =\n",
              "            await google.colab.kernel.invokeFunction('convertToInteractive',\n",
              "                                                     [key], {});\n",
              "          if (!dataTable) return;\n",
              "\n",
              "          const docLinkHtml = 'Like what you see? Visit the ' +\n",
              "            '<a target=\"_blank\" href=https://colab.research.google.com/notebooks/data_table.ipynb>data table notebook</a>'\n",
              "            + ' to learn more about interactive tables.';\n",
              "          element.innerHTML = '';\n",
              "          dataTable['output_type'] = 'display_data';\n",
              "          await google.colab.output.renderOutput(dataTable, element);\n",
              "          const docLink = document.createElement('div');\n",
              "          docLink.innerHTML = docLinkHtml;\n",
              "          element.appendChild(docLink);\n",
              "        }\n",
              "      </script>\n",
              "    </div>\n",
              "  </div>\n",
              "  "
            ]
          },
          "metadata": {},
          "execution_count": 5
        }
      ]
    },
    {
      "cell_type": "code",
      "source": [
        "test_df.head()"
      ],
      "metadata": {
        "colab": {
          "base_uri": "https://localhost:8080/",
          "height": 300
        },
        "id": "F-tLU3B9Bdx8",
        "outputId": "617c0903-c105-48e8-cb21-f4cd97b6c822"
      },
      "execution_count": 6,
      "outputs": [
        {
          "output_type": "execute_result",
          "data": {
            "text/plain": [
              "   id  crew experiment      time  seat    eeg_fp1     eeg_f7     eeg_f8  \\\n",
              "0   0     1       LOFT  0.000000     0  17.899500   6.127830   0.994807   \n",
              "1   1     1       LOFT  0.000000     1  45.883202  94.749001  23.290800   \n",
              "2   2     1       LOFT  0.003906     0  33.120098  28.356501  -7.239220   \n",
              "3   3     1       LOFT  0.003906     1  43.280102  95.887001  18.702299   \n",
              "4   4     1       LOFT  0.007812     0   7.929110   3.460380 -10.860800   \n",
              "\n",
              "      eeg_t4     eeg_t6  ...     eeg_f4      eeg_c4    eeg_p4   eeg_poz  \\\n",
              "0 -28.206200 -47.695499  ...  -7.044480  -14.405100  -4.03384 -0.393799   \n",
              "1   1.392000   2.060940  ...  19.887501 -215.179001   2.11832  7.340940   \n",
              "2  -7.690860 -25.833799  ...  -7.642560  -10.363600  10.95050  6.513360   \n",
              "3  -1.432890  -4.232600  ...  13.826600 -214.223007  -4.91354  3.504520   \n",
              "4 -26.366699 -25.894699  ...   2.045450  -20.788799  -3.61418 -7.539830   \n",
              "\n",
              "     eeg_c3       eeg_cz    eeg_o2          ecg           r         gsr  \n",
              "0  31.83810    17.075600 -8.137350 -7323.120117  643.177002  594.778992  \n",
              "1   9.66785  1169.239990 -0.024414 -3335.080078  826.724976  136.235001  \n",
              "2  36.01860    24.356600  0.956158 -7323.120117  643.177002  594.778992  \n",
              "3   3.87811  1159.400024 -0.047607 -3335.080078  826.724976  136.235001  \n",
              "4   3.08397    13.647900  1.473720 -7323.120117  643.177002  594.778992  \n",
              "\n",
              "[5 rows x 28 columns]"
            ],
            "text/html": [
              "\n",
              "  <div id=\"df-7d3d6a05-9b0d-4e5b-939e-b4355d833af9\">\n",
              "    <div class=\"colab-df-container\">\n",
              "      <div>\n",
              "<style scoped>\n",
              "    .dataframe tbody tr th:only-of-type {\n",
              "        vertical-align: middle;\n",
              "    }\n",
              "\n",
              "    .dataframe tbody tr th {\n",
              "        vertical-align: top;\n",
              "    }\n",
              "\n",
              "    .dataframe thead th {\n",
              "        text-align: right;\n",
              "    }\n",
              "</style>\n",
              "<table border=\"1\" class=\"dataframe\">\n",
              "  <thead>\n",
              "    <tr style=\"text-align: right;\">\n",
              "      <th></th>\n",
              "      <th>id</th>\n",
              "      <th>crew</th>\n",
              "      <th>experiment</th>\n",
              "      <th>time</th>\n",
              "      <th>seat</th>\n",
              "      <th>eeg_fp1</th>\n",
              "      <th>eeg_f7</th>\n",
              "      <th>eeg_f8</th>\n",
              "      <th>eeg_t4</th>\n",
              "      <th>eeg_t6</th>\n",
              "      <th>...</th>\n",
              "      <th>eeg_f4</th>\n",
              "      <th>eeg_c4</th>\n",
              "      <th>eeg_p4</th>\n",
              "      <th>eeg_poz</th>\n",
              "      <th>eeg_c3</th>\n",
              "      <th>eeg_cz</th>\n",
              "      <th>eeg_o2</th>\n",
              "      <th>ecg</th>\n",
              "      <th>r</th>\n",
              "      <th>gsr</th>\n",
              "    </tr>\n",
              "  </thead>\n",
              "  <tbody>\n",
              "    <tr>\n",
              "      <th>0</th>\n",
              "      <td>0</td>\n",
              "      <td>1</td>\n",
              "      <td>LOFT</td>\n",
              "      <td>0.000000</td>\n",
              "      <td>0</td>\n",
              "      <td>17.899500</td>\n",
              "      <td>6.127830</td>\n",
              "      <td>0.994807</td>\n",
              "      <td>-28.206200</td>\n",
              "      <td>-47.695499</td>\n",
              "      <td>...</td>\n",
              "      <td>-7.044480</td>\n",
              "      <td>-14.405100</td>\n",
              "      <td>-4.03384</td>\n",
              "      <td>-0.393799</td>\n",
              "      <td>31.83810</td>\n",
              "      <td>17.075600</td>\n",
              "      <td>-8.137350</td>\n",
              "      <td>-7323.120117</td>\n",
              "      <td>643.177002</td>\n",
              "      <td>594.778992</td>\n",
              "    </tr>\n",
              "    <tr>\n",
              "      <th>1</th>\n",
              "      <td>1</td>\n",
              "      <td>1</td>\n",
              "      <td>LOFT</td>\n",
              "      <td>0.000000</td>\n",
              "      <td>1</td>\n",
              "      <td>45.883202</td>\n",
              "      <td>94.749001</td>\n",
              "      <td>23.290800</td>\n",
              "      <td>1.392000</td>\n",
              "      <td>2.060940</td>\n",
              "      <td>...</td>\n",
              "      <td>19.887501</td>\n",
              "      <td>-215.179001</td>\n",
              "      <td>2.11832</td>\n",
              "      <td>7.340940</td>\n",
              "      <td>9.66785</td>\n",
              "      <td>1169.239990</td>\n",
              "      <td>-0.024414</td>\n",
              "      <td>-3335.080078</td>\n",
              "      <td>826.724976</td>\n",
              "      <td>136.235001</td>\n",
              "    </tr>\n",
              "    <tr>\n",
              "      <th>2</th>\n",
              "      <td>2</td>\n",
              "      <td>1</td>\n",
              "      <td>LOFT</td>\n",
              "      <td>0.003906</td>\n",
              "      <td>0</td>\n",
              "      <td>33.120098</td>\n",
              "      <td>28.356501</td>\n",
              "      <td>-7.239220</td>\n",
              "      <td>-7.690860</td>\n",
              "      <td>-25.833799</td>\n",
              "      <td>...</td>\n",
              "      <td>-7.642560</td>\n",
              "      <td>-10.363600</td>\n",
              "      <td>10.95050</td>\n",
              "      <td>6.513360</td>\n",
              "      <td>36.01860</td>\n",
              "      <td>24.356600</td>\n",
              "      <td>0.956158</td>\n",
              "      <td>-7323.120117</td>\n",
              "      <td>643.177002</td>\n",
              "      <td>594.778992</td>\n",
              "    </tr>\n",
              "    <tr>\n",
              "      <th>3</th>\n",
              "      <td>3</td>\n",
              "      <td>1</td>\n",
              "      <td>LOFT</td>\n",
              "      <td>0.003906</td>\n",
              "      <td>1</td>\n",
              "      <td>43.280102</td>\n",
              "      <td>95.887001</td>\n",
              "      <td>18.702299</td>\n",
              "      <td>-1.432890</td>\n",
              "      <td>-4.232600</td>\n",
              "      <td>...</td>\n",
              "      <td>13.826600</td>\n",
              "      <td>-214.223007</td>\n",
              "      <td>-4.91354</td>\n",
              "      <td>3.504520</td>\n",
              "      <td>3.87811</td>\n",
              "      <td>1159.400024</td>\n",
              "      <td>-0.047607</td>\n",
              "      <td>-3335.080078</td>\n",
              "      <td>826.724976</td>\n",
              "      <td>136.235001</td>\n",
              "    </tr>\n",
              "    <tr>\n",
              "      <th>4</th>\n",
              "      <td>4</td>\n",
              "      <td>1</td>\n",
              "      <td>LOFT</td>\n",
              "      <td>0.007812</td>\n",
              "      <td>0</td>\n",
              "      <td>7.929110</td>\n",
              "      <td>3.460380</td>\n",
              "      <td>-10.860800</td>\n",
              "      <td>-26.366699</td>\n",
              "      <td>-25.894699</td>\n",
              "      <td>...</td>\n",
              "      <td>2.045450</td>\n",
              "      <td>-20.788799</td>\n",
              "      <td>-3.61418</td>\n",
              "      <td>-7.539830</td>\n",
              "      <td>3.08397</td>\n",
              "      <td>13.647900</td>\n",
              "      <td>1.473720</td>\n",
              "      <td>-7323.120117</td>\n",
              "      <td>643.177002</td>\n",
              "      <td>594.778992</td>\n",
              "    </tr>\n",
              "  </tbody>\n",
              "</table>\n",
              "<p>5 rows × 28 columns</p>\n",
              "</div>\n",
              "      <button class=\"colab-df-convert\" onclick=\"convertToInteractive('df-7d3d6a05-9b0d-4e5b-939e-b4355d833af9')\"\n",
              "              title=\"Convert this dataframe to an interactive table.\"\n",
              "              style=\"display:none;\">\n",
              "        \n",
              "  <svg xmlns=\"http://www.w3.org/2000/svg\" height=\"24px\"viewBox=\"0 0 24 24\"\n",
              "       width=\"24px\">\n",
              "    <path d=\"M0 0h24v24H0V0z\" fill=\"none\"/>\n",
              "    <path d=\"M18.56 5.44l.94 2.06.94-2.06 2.06-.94-2.06-.94-.94-2.06-.94 2.06-2.06.94zm-11 1L8.5 8.5l.94-2.06 2.06-.94-2.06-.94L8.5 2.5l-.94 2.06-2.06.94zm10 10l.94 2.06.94-2.06 2.06-.94-2.06-.94-.94-2.06-.94 2.06-2.06.94z\"/><path d=\"M17.41 7.96l-1.37-1.37c-.4-.4-.92-.59-1.43-.59-.52 0-1.04.2-1.43.59L10.3 9.45l-7.72 7.72c-.78.78-.78 2.05 0 2.83L4 21.41c.39.39.9.59 1.41.59.51 0 1.02-.2 1.41-.59l7.78-7.78 2.81-2.81c.8-.78.8-2.07 0-2.86zM5.41 20L4 18.59l7.72-7.72 1.47 1.35L5.41 20z\"/>\n",
              "  </svg>\n",
              "      </button>\n",
              "      \n",
              "  <style>\n",
              "    .colab-df-container {\n",
              "      display:flex;\n",
              "      flex-wrap:wrap;\n",
              "      gap: 12px;\n",
              "    }\n",
              "\n",
              "    .colab-df-convert {\n",
              "      background-color: #E8F0FE;\n",
              "      border: none;\n",
              "      border-radius: 50%;\n",
              "      cursor: pointer;\n",
              "      display: none;\n",
              "      fill: #1967D2;\n",
              "      height: 32px;\n",
              "      padding: 0 0 0 0;\n",
              "      width: 32px;\n",
              "    }\n",
              "\n",
              "    .colab-df-convert:hover {\n",
              "      background-color: #E2EBFA;\n",
              "      box-shadow: 0px 1px 2px rgba(60, 64, 67, 0.3), 0px 1px 3px 1px rgba(60, 64, 67, 0.15);\n",
              "      fill: #174EA6;\n",
              "    }\n",
              "\n",
              "    [theme=dark] .colab-df-convert {\n",
              "      background-color: #3B4455;\n",
              "      fill: #D2E3FC;\n",
              "    }\n",
              "\n",
              "    [theme=dark] .colab-df-convert:hover {\n",
              "      background-color: #434B5C;\n",
              "      box-shadow: 0px 1px 3px 1px rgba(0, 0, 0, 0.15);\n",
              "      filter: drop-shadow(0px 1px 2px rgba(0, 0, 0, 0.3));\n",
              "      fill: #FFFFFF;\n",
              "    }\n",
              "  </style>\n",
              "\n",
              "      <script>\n",
              "        const buttonEl =\n",
              "          document.querySelector('#df-7d3d6a05-9b0d-4e5b-939e-b4355d833af9 button.colab-df-convert');\n",
              "        buttonEl.style.display =\n",
              "          google.colab.kernel.accessAllowed ? 'block' : 'none';\n",
              "\n",
              "        async function convertToInteractive(key) {\n",
              "          const element = document.querySelector('#df-7d3d6a05-9b0d-4e5b-939e-b4355d833af9');\n",
              "          const dataTable =\n",
              "            await google.colab.kernel.invokeFunction('convertToInteractive',\n",
              "                                                     [key], {});\n",
              "          if (!dataTable) return;\n",
              "\n",
              "          const docLinkHtml = 'Like what you see? Visit the ' +\n",
              "            '<a target=\"_blank\" href=https://colab.research.google.com/notebooks/data_table.ipynb>data table notebook</a>'\n",
              "            + ' to learn more about interactive tables.';\n",
              "          element.innerHTML = '';\n",
              "          dataTable['output_type'] = 'display_data';\n",
              "          await google.colab.output.renderOutput(dataTable, element);\n",
              "          const docLink = document.createElement('div');\n",
              "          docLink.innerHTML = docLinkHtml;\n",
              "          element.appendChild(docLink);\n",
              "        }\n",
              "      </script>\n",
              "    </div>\n",
              "  </div>\n",
              "  "
            ]
          },
          "metadata": {},
          "execution_count": 6
        }
      ]
    },
    {
      "cell_type": "markdown",
      "source": [
        "#EDA(Exploratory Data Analysis, 탐색적 자료 분석)\n",
        "\n",
        "Target & Experiment\n",
        "The pilots experienced distractions intended to induce one of the following three cognitive states:\n",
        "\n",
        "Channelized Attention (CA) is, roughly speaking, the state of being focused on one task to the exclusion of all others. This is induced in benchmarking by having the subjects play an engaging puzzle-based video game.\n",
        "Diverted Attention (DA) is the state of having one’s attention diverted by actions or thought processes associated with a decision. This is induced by having the subjects perform a display monitoring task. Periodically, a math problem showed up which had to be solved before returning to the monitoring task.\n",
        "Startle/Surprise (SS) is induced by having the subjects watch movie clips with jump scares.\n",
        "Samples are labelled the following way :\n",
        "\n",
        "A = baseline\n",
        "B = SS\n",
        "C = CA\n",
        "D = DA"
      ],
      "metadata": {
        "id": "PwzCbD6gBhfr"
      }
    },
    {
      "cell_type": "markdown",
      "source": [
        "##바 차트를 이용해 'event'의 분포값을 확인"
      ],
      "metadata": {
        "id": "wR68nameB_su"
      }
    },
    {
      "cell_type": "code",
      "source": [
        "plt.figure(figsize=(15,12))\n",
        "sns.countplot(train_df['event'])\n",
        "plt.xlabel(\"조종사 상태\", fontsize= 12 )\n",
        "plt.ylabel(\"수\", fontsize=12)\n",
        "plt.title(\"목표값 분포\")"
      ],
      "metadata": {
        "colab": {
          "base_uri": "https://localhost:8080/",
          "height": 751
        },
        "id": "yOoR6CoLBx32",
        "outputId": "7e631f03-6a40-46b5-c818-ed894b736ab0"
      },
      "execution_count": 7,
      "outputs": [
        {
          "output_type": "execute_result",
          "data": {
            "text/plain": [
              "Text(0.5, 1.0, '목표값 분포')"
            ]
          },
          "metadata": {},
          "execution_count": 7
        },
        {
          "output_type": "display_data",
          "data": {
            "text/plain": [
              "<Figure size 1080x864 with 1 Axes>"
            ],
            "image/png": "[encoded data removed]"
          },
          "metadata": {
            "needs_background": "light"
          }
        }
      ]
    },
    {
      "cell_type": "code",
      "source": [
        "plt.figure(figsize=(15,10))\n",
        "sns.countplot('experiment', hue='event', data=train_df)\n",
        "plt.xlabel(\"조종사 상황과 상태\", fontsize = 12)\n",
        "plt.ylabel('수(log)', fontsize=12)\n",
        "plt.yscale('log')\n",
        "plt.title(\"Target repartition for different experiment\", fontsize = 15)\n",
        "plt.show()"
      ],
      "metadata": {
        "colab": {
          "base_uri": "https://localhost:8080/",
          "height": 627
        },
        "id": "M-tcO8USDR5u",
        "outputId": "41ffe508-e54a-4eec-daeb-d26b220d7147"
      },
      "execution_count": 8,
      "outputs": [
        {
          "output_type": "display_data",
          "data": {
            "text/plain": [
              "<Figure size 1080x720 with 1 Axes>"
            ],
            "image/png": "[encoded data removed]"
          },
          "metadata": {
            "needs_background": "light"
          }
        }
      ]
    },
    {
      "cell_type": "markdown",
      "source": [
        "Seat\n",
        "\n",
        "Which seat the pilot is sitting in.\n",
        "\n",
        "0 : left seat\n",
        "1 : right seat\n",
        "\n",
        "This probably has nothing to do with the outcome of the experiment though."
      ],
      "metadata": {
        "id": "3aekfVjWFXVv"
      }
    },
    {
      "cell_type": "code",
      "source": [
        "plt.figure(figsize=(15,10))\n",
        "sns.countplot('event', hue='seat', data=train_df)\n",
        "plt.xlabel(\"조종사 자리와 상태\", fontsize=12)\n",
        "plt.ylabel(\"수(log)\", fontsize = 12)\n",
        "plt.yscale('log')\n",
        "plt.title(\"Left seat or right seat?\", fontsize = 15)\n",
        "plt.show()"
      ],
      "metadata": {
        "colab": {
          "base_uri": "https://localhost:8080/",
          "height": 627
        },
        "id": "zR2ws20BFbPL",
        "outputId": "d23855bc-adaf-4f37-ea73-69af0dcbe660"
      },
      "execution_count": 9,
      "outputs": [
        {
          "output_type": "display_data",
          "data": {
            "text/plain": [
              "<Figure size 1080x720 with 1 Axes>"
            ],
            "image/png": "[encoded data removed]"
          },
          "metadata": {
            "needs_background": "light"
          }
        }
      ]
    },
    {
      "cell_type": "code",
      "source": [
        "plt.figure(figsize =(15,19))\n",
        "sns.violinplot(x='event', y='time', data=train_df.sample(50000))\n",
        "plt.ylabel(\"Time (s)\", fontsize=12)\n",
        "plt.xlabel(\"Event\", fontsize=12)\n",
        "plt.title(\"Which time do event occur at?\", fontsize=12)\n",
        "plt.show()"
      ],
      "metadata": {
        "colab": {
          "base_uri": "https://localhost:8080/",
          "height": 1000
        },
        "id": "oa_kDAX9GLrm",
        "outputId": "2d476929-1d03-49ac-9357-5baa98c83a54"
      },
      "execution_count": 10,
      "outputs": [
        {
          "output_type": "display_data",
          "data": {
            "text/plain": [
              "<Figure size 1080x1368 with 1 Axes>"
            ],
            "image/png": "[encoded data removed]"
          },
          "metadata": {
            "needs_background": "light"
          }
        }
      ]
    },
    {
      "cell_type": "code",
      "source": [
        "plt.figure(figsize=(15, 10))\n",
        "sns.distplot(test_df['time'],label = 'Test set')\n",
        "sns.distplot(train_df['time'],label = 'Train set')\n",
        "plt.legend()\n",
        "plt.xlabel(\"Time(s)\", fontsize=12)\n",
        "plt.title(\"Reparition of the time feature\", fontsize=15)"
      ],
      "metadata": {
        "id": "U3ugrnEFKxpX"
      },
      "execution_count": null,
      "outputs": []
    }
  ]
}