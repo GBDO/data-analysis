{
  "nbformat": 4,
  "nbformat_minor": 0,
  "metadata": {
    "colab": {
      "name": "Study on Logistic Regression_2.ipynb",
      "provenance": [],
      "collapsed_sections": []
    },
    "kernelspec": {
      "name": "python3",
      "display_name": "Python 3"
    },
    "language_info": {
      "name": "python"
    }
  },
  "cells": [
    {
      "cell_type": "markdown",
      "source": [
        "출처 :  \n",
        "    \n",
        "> 혼자 공부하는 머신러닝 + 딥러닝,  \n",
        "    \n",
        "> https://www.kaggle.com/code/theoviel/starter-code-eda-and-lgbm-baseline\n",
        "\n",
        "> https://azanewta.tistory.com/3\n",
        "\n",
        "# **로지스틱 회귀**"
      ],
      "metadata": {
        "id": "My-HfxFLpdSB"
      }
    },
    {
      "cell_type": "code",
      "execution_count": 48,
      "metadata": {
        "colab": {
          "base_uri": "https://localhost:8080/",
          "height": 206
        },
        "id": "mVCAjSGCpZuF",
        "outputId": "e381d545-6800-4a10-c14c-08129e7b321d"
      },
      "outputs": [
        {
          "output_type": "execute_result",
          "data": {
            "text/plain": [
              "  Species  Weight  Length  Diagonal   Height   Width\n",
              "0   Bream   242.0    25.4      30.0  11.5200  4.0200\n",
              "1   Bream   290.0    26.3      31.2  12.4800  4.3056\n",
              "2   Bream   340.0    26.5      31.1  12.3778  4.6961\n",
              "3   Bream   363.0    29.0      33.5  12.7300  4.4555\n",
              "4   Bream   430.0    29.0      34.0  12.4440  5.1340"
            ],
            "text/html": [
              "\n",
              "  <div id=\"df-e2549319-d547-4a54-b8c6-785deff581ab\">\n",
              "    <div class=\"colab-df-container\">\n",
              "      <div>\n",
              "<style scoped>\n",
              "    .dataframe tbody tr th:only-of-type {\n",
              "        vertical-align: middle;\n",
              "    }\n",
              "\n",
              "    .dataframe tbody tr th {\n",
              "        vertical-align: top;\n",
              "    }\n",
              "\n",
              "    .dataframe thead th {\n",
              "        text-align: right;\n",
              "    }\n",
              "</style>\n",
              "<table border=\"1\" class=\"dataframe\">\n",
              "  <thead>\n",
              "    <tr style=\"text-align: right;\">\n",
              "      <th></th>\n",
              "      <th>Species</th>\n",
              "      <th>Weight</th>\n",
              "      <th>Length</th>\n",
              "      <th>Diagonal</th>\n",
              "      <th>Height</th>\n",
              "      <th>Width</th>\n",
              "    </tr>\n",
              "  </thead>\n",
              "  <tbody>\n",
              "    <tr>\n",
              "      <th>0</th>\n",
              "      <td>Bream</td>\n",
              "      <td>242.0</td>\n",
              "      <td>25.4</td>\n",
              "      <td>30.0</td>\n",
              "      <td>11.5200</td>\n",
              "      <td>4.0200</td>\n",
              "    </tr>\n",
              "    <tr>\n",
              "      <th>1</th>\n",
              "      <td>Bream</td>\n",
              "      <td>290.0</td>\n",
              "      <td>26.3</td>\n",
              "      <td>31.2</td>\n",
              "      <td>12.4800</td>\n",
              "      <td>4.3056</td>\n",
              "    </tr>\n",
              "    <tr>\n",
              "      <th>2</th>\n",
              "      <td>Bream</td>\n",
              "      <td>340.0</td>\n",
              "      <td>26.5</td>\n",
              "      <td>31.1</td>\n",
              "      <td>12.3778</td>\n",
              "      <td>4.6961</td>\n",
              "    </tr>\n",
              "    <tr>\n",
              "      <th>3</th>\n",
              "      <td>Bream</td>\n",
              "      <td>363.0</td>\n",
              "      <td>29.0</td>\n",
              "      <td>33.5</td>\n",
              "      <td>12.7300</td>\n",
              "      <td>4.4555</td>\n",
              "    </tr>\n",
              "    <tr>\n",
              "      <th>4</th>\n",
              "      <td>Bream</td>\n",
              "      <td>430.0</td>\n",
              "      <td>29.0</td>\n",
              "      <td>34.0</td>\n",
              "      <td>12.4440</td>\n",
              "      <td>5.1340</td>\n",
              "    </tr>\n",
              "  </tbody>\n",
              "</table>\n",
              "</div>\n",
              "      <button class=\"colab-df-convert\" onclick=\"convertToInteractive('df-e2549319-d547-4a54-b8c6-785deff581ab')\"\n",
              "              title=\"Convert this dataframe to an interactive table.\"\n",
              "              style=\"display:none;\">\n",
              "        \n",
              "  <svg xmlns=\"http://www.w3.org/2000/svg\" height=\"24px\"viewBox=\"0 0 24 24\"\n",
              "       width=\"24px\">\n",
              "    <path d=\"M0 0h24v24H0V0z\" fill=\"none\"/>\n",
              "    <path d=\"M18.56 5.44l.94 2.06.94-2.06 2.06-.94-2.06-.94-.94-2.06-.94 2.06-2.06.94zm-11 1L8.5 8.5l.94-2.06 2.06-.94-2.06-.94L8.5 2.5l-.94 2.06-2.06.94zm10 10l.94 2.06.94-2.06 2.06-.94-2.06-.94-.94-2.06-.94 2.06-2.06.94z\"/><path d=\"M17.41 7.96l-1.37-1.37c-.4-.4-.92-.59-1.43-.59-.52 0-1.04.2-1.43.59L10.3 9.45l-7.72 7.72c-.78.78-.78 2.05 0 2.83L4 21.41c.39.39.9.59 1.41.59.51 0 1.02-.2 1.41-.59l7.78-7.78 2.81-2.81c.8-.78.8-2.07 0-2.86zM5.41 20L4 18.59l7.72-7.72 1.47 1.35L5.41 20z\"/>\n",
              "  </svg>\n",
              "      </button>\n",
              "      \n",
              "  <style>\n",
              "    .colab-df-container {\n",
              "      display:flex;\n",
              "      flex-wrap:wrap;\n",
              "      gap: 12px;\n",
              "    }\n",
              "\n",
              "    .colab-df-convert {\n",
              "      background-color: #E8F0FE;\n",
              "      border: none;\n",
              "      border-radius: 50%;\n",
              "      cursor: pointer;\n",
              "      display: none;\n",
              "      fill: #1967D2;\n",
              "      height: 32px;\n",
              "      padding: 0 0 0 0;\n",
              "      width: 32px;\n",
              "    }\n",
              "\n",
              "    .colab-df-convert:hover {\n",
              "      background-color: #E2EBFA;\n",
              "      box-shadow: 0px 1px 2px rgba(60, 64, 67, 0.3), 0px 1px 3px 1px rgba(60, 64, 67, 0.15);\n",
              "      fill: #174EA6;\n",
              "    }\n",
              "\n",
              "    [theme=dark] .colab-df-convert {\n",
              "      background-color: #3B4455;\n",
              "      fill: #D2E3FC;\n",
              "    }\n",
              "\n",
              "    [theme=dark] .colab-df-convert:hover {\n",
              "      background-color: #434B5C;\n",
              "      box-shadow: 0px 1px 3px 1px rgba(0, 0, 0, 0.15);\n",
              "      filter: drop-shadow(0px 1px 2px rgba(0, 0, 0, 0.3));\n",
              "      fill: #FFFFFF;\n",
              "    }\n",
              "  </style>\n",
              "\n",
              "      <script>\n",
              "        const buttonEl =\n",
              "          document.querySelector('#df-e2549319-d547-4a54-b8c6-785deff581ab button.colab-df-convert');\n",
              "        buttonEl.style.display =\n",
              "          google.colab.kernel.accessAllowed ? 'block' : 'none';\n",
              "\n",
              "        async function convertToInteractive(key) {\n",
              "          const element = document.querySelector('#df-e2549319-d547-4a54-b8c6-785deff581ab');\n",
              "          const dataTable =\n",
              "            await google.colab.kernel.invokeFunction('convertToInteractive',\n",
              "                                                     [key], {});\n",
              "          if (!dataTable) return;\n",
              "\n",
              "          const docLinkHtml = 'Like what you see? Visit the ' +\n",
              "            '<a target=\"_blank\" href=https://colab.research.google.com/notebooks/data_table.ipynb>data table notebook</a>'\n",
              "            + ' to learn more about interactive tables.';\n",
              "          element.innerHTML = '';\n",
              "          dataTable['output_type'] = 'display_data';\n",
              "          await google.colab.output.renderOutput(dataTable, element);\n",
              "          const docLink = document.createElement('div');\n",
              "          docLink.innerHTML = docLinkHtml;\n",
              "          element.appendChild(docLink);\n",
              "        }\n",
              "      </script>\n",
              "    </div>\n",
              "  </div>\n",
              "  "
            ]
          },
          "metadata": {},
          "execution_count": 48
        }
      ],
      "source": [
        "# 데이터 불러오기\n",
        "\n",
        "import pandas as pd\n",
        "import numpy as np\n",
        "fish = pd.read_csv('http://bit.ly/fish_csv')\n",
        "fish.head()"
      ]
    },
    {
      "cell_type": "code",
      "source": [
        "# 'Species' 열의 고유값 확인\n",
        "\n",
        "print(pd.unique(fish['Species'])) # 7가지"
      ],
      "metadata": {
        "colab": {
          "base_uri": "https://localhost:8080/"
        },
        "id": "f0fnqdSIpcCP",
        "outputId": "d2efb551-5c63-4413-a455-b08efb5e0598"
      },
      "execution_count": 49,
      "outputs": [
        {
          "output_type": "stream",
          "name": "stdout",
          "text": [
            "['Bream' 'Roach' 'Whitefish' 'Parkki' 'Perch' 'Pike' 'Smelt']\n"
          ]
        }
      ]
    },
    {
      "cell_type": "code",
      "source": [
        "fish_input = fish[['Weight', 'Length', 'Diagonal', 'Height', 'Width']].to_numpy() # 'Species'를 제외한 열을 numpy 배열로 변환, fish_input에 저장\n",
        "fish_input.shape # 크기 확인"
      ],
      "metadata": {
        "colab": {
          "base_uri": "https://localhost:8080/"
        },
        "id": "vqiZ30X_qZP_",
        "outputId": "3a10327f-a669-4702-fa66-68de10f4f356"
      },
      "execution_count": 50,
      "outputs": [
        {
          "output_type": "execute_result",
          "data": {
            "text/plain": [
              "(159, 5)"
            ]
          },
          "metadata": {},
          "execution_count": 50
        }
      ]
    },
    {
      "cell_type": "code",
      "source": [
        "print(fish_input[:5]) # fish_input 0, 1, 2, 3, 4 행 출력"
      ],
      "metadata": {
        "colab": {
          "base_uri": "https://localhost:8080/"
        },
        "id": "NBmluEbcqtKp",
        "outputId": "8c0ad7c2-5ffb-4d5e-9e73-e63430b548f7"
      },
      "execution_count": 51,
      "outputs": [
        {
          "output_type": "stream",
          "name": "stdout",
          "text": [
            "[[242.      25.4     30.      11.52     4.02  ]\n",
            " [290.      26.3     31.2     12.48     4.3056]\n",
            " [340.      26.5     31.1     12.3778   4.6961]\n",
            " [363.      29.      33.5     12.73     4.4555]\n",
            " [430.      29.      34.      12.444    5.134 ]]\n"
          ]
        }
      ]
    },
    {
      "cell_type": "code",
      "source": [
        "fish_target = fish[['Species']].to_numpy() # 'Species' 열을 넘파이 배열로 변환, fish_target에 저장"
      ],
      "metadata": {
        "id": "-5dW_HRpsKA_"
      },
      "execution_count": 52,
      "outputs": []
    },
    {
      "cell_type": "code",
      "source": [
        "from sklearn.model_selection import train_test_split # train data와 test data를 나눠주는 함수\n",
        "train_input, test_input, train_target, test_target = train_test_split(fish_input,\n",
        "                                                                      fish_target,\n",
        "                                                                      random_state = 42)\n",
        " # random_state를 지정하면 같은 수를 넣었을 때 항상 같은 test data와 train data를 만든다."
      ],
      "metadata": {
        "id": "XffBxqdKsbKF"
      },
      "execution_count": 53,
      "outputs": []
    },
    {
      "cell_type": "code",
      "source": [
        "from sklearn.preprocessing import StandardScaler # 데이터를 표준화 전처리 하는 함수(범위 : -2 ~ +2)\n",
        "ss = StandardScaler()\n",
        "ss.fit(train_input) # train_input data 표준화 모델 만들기\n",
        "train_scaled = ss.transform(train_input) # train_input 표준화\n",
        "test_scaled = ss.transform(test_input) # test_input 표준화"
      ],
      "metadata": {
        "id": "dvwgfAdqtr5n"
      },
      "execution_count": 54,
      "outputs": []
    },
    {
      "cell_type": "markdown",
      "source": [
        "# k-최근접 이웃 분류기(KNN)"
      ],
      "metadata": {
        "id": "XjSYUwkyvXoU"
      }
    },
    {
      "cell_type": "code",
      "source": [
        "from sklearn.neighbors import KNeighborsClassifier # k-최근접 이웃 분류 함수\n",
        "kn = KNeighborsClassifier(n_neighbors=3) # 'n_neighbors' 파라미터는 확인할 최근접 데이터의 수를 지정\n",
        "kn.fit(train_scaled, train_target) # KNN 모델링\n",
        "print(kn.score(train_scaled, train_target)) # 학습된 모델로 train data 예측시 점수\n",
        "print(kn.score(test_scaled, test_target)) # 학습된 모델로 test data 예측시 점수\n",
        "\n",
        "# train set을 예측했으때 점수가 더 높은 것을 봤을 때 train data에 과적합된 경향이 있다."
      ],
      "metadata": {
        "colab": {
          "base_uri": "https://localhost:8080/"
        },
        "id": "8D3FNpYCu0S1",
        "outputId": "751c8fd1-c633-4ab2-929c-63b1bacc17cf"
      },
      "execution_count": 55,
      "outputs": [
        {
          "output_type": "stream",
          "name": "stdout",
          "text": [
            "0.8907563025210085\n",
            "0.85\n"
          ]
        },
        {
          "output_type": "stream",
          "name": "stderr",
          "text": [
            "/usr/local/lib/python3.7/dist-packages/sklearn/neighbors/_classification.py:198: DataConversionWarning: A column-vector y was passed when a 1d array was expected. Please change the shape of y to (n_samples,), for example using ravel().\n",
            "  return self._fit(X, y)\n"
          ]
        }
      ]
    },
    {
      "cell_type": "code",
      "source": [
        "print(kn.classes_) # 학습된 KNN 모델에 설정 목표값 출력"
      ],
      "metadata": {
        "colab": {
          "base_uri": "https://localhost:8080/"
        },
        "id": "PbKquUpA1ATk",
        "outputId": "c715064b-4a4a-4fe8-baab-d9eda7979df2"
      },
      "execution_count": 56,
      "outputs": [
        {
          "output_type": "stream",
          "name": "stdout",
          "text": [
            "['Bream' 'Parkki' 'Perch' 'Pike' 'Roach' 'Smelt' 'Whitefish']\n"
          ]
        }
      ]
    },
    {
      "cell_type": "code",
      "source": [
        "print(kn.predict(test_scaled[:5]))\n",
        " # test data 0, 1, 2, 3, 4 행의 입력 값에 대한 학습된 KNN 모델의 예측 값"
      ],
      "metadata": {
        "colab": {
          "base_uri": "https://localhost:8080/"
        },
        "id": "bcKDAFk31FhA",
        "outputId": "1d9171c9-9b0c-4992-83c3-258ea6e79b2b"
      },
      "execution_count": 57,
      "outputs": [
        {
          "output_type": "stream",
          "name": "stdout",
          "text": [
            "['Perch' 'Smelt' 'Pike' 'Perch' 'Perch']\n"
          ]
        }
      ]
    },
    {
      "cell_type": "code",
      "source": [
        "print(test_target[:5]) # 실제 test data 목표 값"
      ],
      "metadata": {
        "colab": {
          "base_uri": "https://localhost:8080/"
        },
        "id": "0gr9RNkk1sL8",
        "outputId": "44e15b29-fce2-41ac-a191-1e8efdcfc011"
      },
      "execution_count": 58,
      "outputs": [
        {
          "output_type": "stream",
          "name": "stdout",
          "text": [
            "[['Perch']\n",
            " ['Smelt']\n",
            " ['Pike']\n",
            " ['Whitefish']\n",
            " ['Perch']]\n"
          ]
        }
      ]
    },
    {
      "cell_type": "code",
      "source": [
        "proba = kn.predict_proba(test_scaled[:5]) # 최근접 데이터의 각 클레스에 대한 확률\n",
        "print(np.round(proba, decimals=4)) # 소수점 4째 자리까지 출력"
      ],
      "metadata": {
        "colab": {
          "base_uri": "https://localhost:8080/"
        },
        "id": "QO4kGUG-FQC2",
        "outputId": "871ac484-8081-4f46-d9a4-d477bdc5abc4"
      },
      "execution_count": 68,
      "outputs": [
        {
          "output_type": "stream",
          "name": "stdout",
          "text": [
            "[[0.     0.     1.     0.     0.     0.     0.    ]\n",
            " [0.     0.     0.     0.     0.     1.     0.    ]\n",
            " [0.     0.     0.     1.     0.     0.     0.    ]\n",
            " [0.     0.     0.6667 0.     0.3333 0.     0.    ]\n",
            " [0.     0.     0.6667 0.     0.3333 0.     0.    ]]\n"
          ]
        }
      ]
    },
    {
      "cell_type": "code",
      "source": [
        "destances, indexes = kn.kneighbors(test_scaled[3:4]) # test_scaled[3]와 최근접 데이터 간에 거리, 최근접 데이터의 인덱스 저장\n",
        "print(train_target[indexes]) # 최근접 데이터 인덱스 출력"
      ],
      "metadata": {
        "colab": {
          "base_uri": "https://localhost:8080/"
        },
        "id": "QLgIruu2GH96",
        "outputId": "e91cd63d-a579-4990-ce26-2387aed1df13"
      },
      "execution_count": 70,
      "outputs": [
        {
          "output_type": "stream",
          "name": "stdout",
          "text": [
            "[[['Roach']\n",
            "  ['Perch']\n",
            "  ['Perch']]]\n"
          ]
        }
      ]
    },
    {
      "cell_type": "markdown",
      "source": [
        "# 혼합 행렬(Confusion Matrix)를 통해 실제 값과 예측 값 비교\n",
        "\n",
        "\\< Check \\>\n",
        "> np.newaxis 함수는 차원을 늘려서 표현해줍니다.\n",
        "\n",
        "    x = np.arange(6)\n",
        "    y = np.arange(3)\n",
        "    x2 = x[:,np.newaxis]\n",
        "\n",
        "    print(x.shape, y.shape) # (6,) (3,)\n",
        "    print(x[:,np.newaxis].shape)  # (6, 1)\n",
        "\n",
        "    print(x + y) # ValueError: operands could not be broadcast together with shapes (6,) (3,)\n",
        "    print(x2 + y) # [[0 1 2] [1 2 3] [2 3 4] [3 4 5] [4 5 6] [5 6 7]]\n",
        "\n",
        "    "
      ],
      "metadata": {
        "id": "UMWgdcu1_CdK"
      }
    },
    {
      "cell_type": "code",
      "source": [
        "def plot_confusion_matrix(cm, classes, title='Confusion matrix', normalize=False, cmap=plt.cm.Blues):\n",
        "    if normalize:\n",
        "        cm = cm.astype('float') / cm.sum(axis=1)[:, np.newaxis] ####### check~\n",
        "    fmt = '.2f' if normalize else 'd'\n",
        "\n",
        "    fig, ax = plt.subplots(figsize=(15, 10))\n",
        "    ax.imshow(cm, interpolation='nearest', cmap=cmap)\n",
        "\n",
        "    plt.imshow(cm, interpolation='nearest', cmap=cmap)\n",
        "    plt.title(title, size=15)\n",
        "    plt.colorbar()\n",
        "    plt.grid(False)\n",
        "    tick_marks = np.arange(len(classes))\n",
        "    plt.xticks(tick_marks, classes, rotation=45)\n",
        "    plt.yticks(tick_marks, classes)\n",
        "\n",
        "    thresh = (cm.max()+cm.min()) / 2.\n",
        "    for i, j in itertools.product(range(cm.shape[0]), range(cm.shape[1])):\n",
        "        plt.text(j, i, format(cm[i, j], fmt),\n",
        "                 horizontalalignment=\"center\",\n",
        "                 color=\"white\" if cm[i, j] > thresh else \"black\")\n",
        "\n",
        "    plt.tight_layout()\n",
        "    plt.ylabel('True label', size=12)\n",
        "    plt.xlabel('Predicted label', size=12)"
      ],
      "metadata": {
        "id": "3QbCUH0S4WQX"
      },
      "execution_count": 37,
      "outputs": []
    },
    {
      "cell_type": "code",
      "source": [
        "from sklearn.metrics import confusion_matrix, log_loss\n",
        "import matplotlib.pyplot as plt\n",
        "import itertools\n",
        "kn_val = kn.predict(test_scaled)\n",
        "conf_mat_val = confusion_matrix(kn_val, test_target)\n",
        "'''\n",
        "array([[11,  0,  0,  0,  0,  0,  0],  # 실제 target 값이 'Bream'인 데이터가 11개 있고 모두 바르게 예측되었다.\n",
        "       [ 0,  2,  0,  0,  0,  0,  0],  # 실제 target 값이 'Parkki'인 데이터가 2개 있고 모두 바르게 예측되었다.\n",
        "       [ 0,  0, 10,  0,  1,  0,  3],  # 실제 target 값이 'Perch'인 데이터가 14개 있고 10개는 바르게,\n",
        "                                         1개는 'Roach'로, 3개는 'Whitefish'로 예측 되었다.\n",
        "       [ 0,  0,  0,  4,  0,  0,  0],  # 실제 target 값이 'Pike'인 데이터가 4개 있고 모두 바르게 예측되었다.\n",
        "       [ 0,  0,  2,  0,  2,  0,  0],  # 실제 target 값이 'Roach'인 데이터가 4개 있고 2개는 바르게,\n",
        "                                        2개는 'Perch'로 예측되었다.\n",
        "       [ 0,  0,  0,  0,  0,  5,  0],  # 실제 target 값이 'Smelt'인 데이터가 모두 바르게 예측되었다.\n",
        "       [ 0,  0,  0,  0,  0,  0,  0]]) # 실제 target 값이 'Whitefish'인 데이터는 없었다.\n",
        "'''\n",
        "plot_confusion_matrix(conf_mat_val, ['Bream' ,'Parkki', 'Perch', 'Pike', 'Roach',\n",
        "                                     'Smelt', 'Whitefish'],\n",
        "                       title='Confusion matrix on Validation data',\n",
        "                       normalize=True)"
      ],
      "metadata": {
        "colab": {
          "base_uri": "https://localhost:8080/",
          "height": 783
        },
        "id": "29Zfn7dX3MVb",
        "outputId": "05565365-ad66-4c3c-d029-9bfa4c9f398c"
      },
      "execution_count": 44,
      "outputs": [
        {
          "output_type": "stream",
          "name": "stderr",
          "text": [
            "/usr/local/lib/python3.7/dist-packages/ipykernel_launcher.py:3: RuntimeWarning: invalid value encountered in true_divide\n",
            "  This is separate from the ipykernel package so we can avoid doing imports until\n"
          ]
        },
        {
          "output_type": "display_data",
          "data": {
            "text/plain": [
              "<Figure size 1080x720 with 2 Axes>"
            ],
            "image/png": "[encoded data removed]"
          },
          "metadata": {
            "needs_background": "light"
          }
        }
      ]
    },
    {
      "cell_type": "markdown",
      "source": [
        "# 로지스틱 회귀"
      ],
      "metadata": {
        "id": "HwOVAa89Ha9J"
      }
    },
    {
      "cell_type": "code",
      "source": [
        "import numpy as np\n",
        "import matplotlib.pyplot as plt\n",
        "z = np.arange(-5,5, 0.1)\n",
        "phi = 1/ (1+np.exp(-z)) # 시그모이드 함수\n",
        "plt.plot(z, phi) # 메인선 생성\n",
        "plt.axhline(y=1, color='r') # 가로선 생성\n",
        "plt.axvline(x=0, color='r') # 새로선 생성\n",
        "plt.ylim(0,1.8) # y 축 길이 설정\n",
        "plt.xlabel('z') # x 축 이름\n",
        "plt.ylabel('phi') # y 축 이름\n",
        "plt.show()"
      ],
      "metadata": {
        "colab": {
          "base_uri": "https://localhost:8080/",
          "height": 283
        },
        "id": "lhtvwQh17voe",
        "outputId": "c8300384-a048-40f2-f4ce-b8ec5b3be4bd"
      },
      "execution_count": 80,
      "outputs": [
        {
          "output_type": "display_data",
          "data": {
            "text/plain": [
              "<Figure size 432x288 with 1 Axes>"
            ],
            "image/png": "[encoded data removed]"
          },
          "metadata": {
            "needs_background": "light"
          }
        }
      ]
    }
  ]
}